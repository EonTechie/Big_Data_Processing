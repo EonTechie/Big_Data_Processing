{
  "nbformat": 4,
  "nbformat_minor": 0,
  "metadata": {
    "colab": {
      "provenance": [],
      "authorship_tag": "ABX9TyMIdiyJ0ldKQEFhQKwXIaZL",
      "include_colab_link": true
    },
    "kernelspec": {
      "name": "python3",
      "display_name": "Python 3"
    },
    "language_info": {
      "name": "python"
    }
  },
  "cells": [
    {
      "cell_type": "markdown",
      "metadata": {
        "id": "view-in-github",
        "colab_type": "text"
      },
      "source": [
        "<a href=\"https://colab.research.google.com/github/EonTechie/Big_Data_Processing_Spark_Projects/blob/main/spark-sql-tasks/TagBasedAverageRatingAnalysis.ipynb\" target=\"_parent\"><img src=\"https://colab.research.google.com/assets/colab-badge.svg\" alt=\"Open In Colab\"/></a>"
      ]
    },
    {
      "cell_type": "code",
      "execution_count": null,
      "metadata": {
        "colab": {
          "base_uri": "https://localhost:8080/"
        },
        "id": "3XujztyO1eiw",
        "outputId": "1b931f8f-f5c6-4594-ebe9-fbaa2f015044"
      },
      "outputs": [
        {
          "output_type": "stream",
          "name": "stdout",
          "text": [
            "Mounted at /content/drive\n",
            "['movies.csv', 'README.txt', 'ratings.csv', 'links.csv', 'tags.csv']\n"
          ]
        }
      ],
      "source": [
        "#Filiz-Yıldız-Part_2_Question_1\n",
        "\"\"\"\n",
        "Objective:\n",
        "The goal of Question 1 was to load, explore, and prepare the MovieLens dataset for further analysis.\n",
        "\n",
        "Steps Performed:\n",
        "Google Drive Mounting:\n",
        "I mounted Google Drive using drive.mount() to access the dataset files stored in my drive.\n",
        "\n",
        "Reading CSV Files:\n",
        "I loaded ratings.csv and movies.csv using Spark’s DataFrame API with inferSchema=True and header=True options to automatically detect data types and column names.\n",
        "\n",
        "Exploring Data:\n",
        "I used .show() and .count() to understand the structure and size of both datasets.\n",
        "\n",
        "Joining Data:\n",
        "I joined the ratings and movies DataFrames on the movieId column to combine user ratings with movie titles and genres.\n",
        "\n",
        "Genre Splitting:\n",
        "Since movies can have multiple genres, I split the genres column by the | character and used explode() to create a separate row for each genre. This step made genre-based analysis possible.\n",
        "\n",
        "Basic Statistics:\n",
        "I counted the number of rows, distinct users, and genre values to get an idea of data coverage and variety.\n",
        "\n",
        "Conclusion:\n",
        "The dataset was successfully loaded, cleaned, and transformed into the format providing with requested knowledge.\n",
        "\"\"\"\n",
        "\n",
        "from google.colab import drive\n",
        "drive.mount('/content/drive')\n",
        "\n",
        "import os\n",
        "\n",
        "folder_path = \"/content/drive/My Drive/datasets/ml-latest-small\"\n",
        "files = os.listdir(folder_path)\n",
        "print(files)\n"
      ]
    },
    {
      "cell_type": "code",
      "source": [
        "from pyspark.sql import SparkSession\n",
        "\n",
        "# Create a SparkSession with the application\n",
        "spark = SparkSession.builder.appName(\"Question_2_Part_1-Movielens-1\").getOrCreate()"
      ],
      "metadata": {
        "id": "mxPCv7Wr1-U2"
      },
      "execution_count": null,
      "outputs": []
    },
    {
      "cell_type": "code",
      "source": [
        "from pyspark.sql.functions import col, lag, regexp_replace, round\n",
        "from pyspark.sql.window import Window\n",
        "\n",
        "# Load the 'tags.csv' file from the MovieLens dataset into a DataFrame\n",
        "# - 'inferSchema': Automatically detects column data types\n",
        "# - 'header': First row is treated as column names\n",
        "df_tags = spark.read \\\n",
        "    .option(\"inferSchema\", \"true\") \\\n",
        "    .option(\"header\", \"true\") \\\n",
        "    .csv(\"/content/drive/My Drive/datasets/ml-latest-small/tags.csv\")\n",
        "\n",
        "# Display the first few records to understand the structure and content\n",
        "df_tags.show()"
      ],
      "metadata": {
        "colab": {
          "base_uri": "https://localhost:8080/"
        },
        "id": "Sie8gAyW3oKE",
        "outputId": "ce24b0cc-a9b8-48da-a746-a5b52e04b5c6"
      },
      "execution_count": null,
      "outputs": [
        {
          "output_type": "stream",
          "name": "stdout",
          "text": [
            "+------+-------+-----------------+----------+\n",
            "|userId|movieId|              tag| timestamp|\n",
            "+------+-------+-----------------+----------+\n",
            "|     2|  60756|            funny|1445714994|\n",
            "|     2|  60756|  Highly quotable|1445714996|\n",
            "|     2|  60756|     will ferrell|1445714992|\n",
            "|     2|  89774|     Boxing story|1445715207|\n",
            "|     2|  89774|              MMA|1445715200|\n",
            "|     2|  89774|        Tom Hardy|1445715205|\n",
            "|     2| 106782|            drugs|1445715054|\n",
            "|     2| 106782|Leonardo DiCaprio|1445715051|\n",
            "|     2| 106782|  Martin Scorsese|1445715056|\n",
            "|     7|  48516|     way too long|1169687325|\n",
            "|    18|    431|        Al Pacino|1462138765|\n",
            "|    18|    431|         gangster|1462138749|\n",
            "|    18|    431|            mafia|1462138755|\n",
            "|    18|   1221|        Al Pacino|1461699306|\n",
            "|    18|   1221|            Mafia|1461699303|\n",
            "|    18|   5995|        holocaust|1455735472|\n",
            "|    18|   5995|       true story|1455735479|\n",
            "|    18|  44665|     twist ending|1456948283|\n",
            "|    18|  52604|  Anthony Hopkins|1457650696|\n",
            "|    18|  52604|  courtroom drama|1457650711|\n",
            "+------+-------+-----------------+----------+\n",
            "only showing top 20 rows\n",
            "\n"
          ]
        }
      ]
    },
    {
      "cell_type": "code",
      "source": [
        "# Load the 'ratings.csv' file from the MovieLens dataset into a DataFrame\n",
        "# - 'inferSchema': Automatically detects column data types\n",
        "# - 'header': First row is treated as column names\n",
        "df_ratings = spark.read \\\n",
        "    .option(\"inferSchema\", \"true\") \\\n",
        "    .option(\"header\", \"true\") \\\n",
        "    .csv(\"/content/drive/My Drive/datasets/ml-latest-small/ratings.csv\")\n",
        "\n",
        "# Display the first few records to see rating data (userId, movieId, rating, timestamp)\n",
        "df_ratings.show()\n"
      ],
      "metadata": {
        "colab": {
          "base_uri": "https://localhost:8080/"
        },
        "id": "qMV4gVW03yWZ",
        "outputId": "e1a901ad-79b0-448c-94ae-ea08c9faed11"
      },
      "execution_count": null,
      "outputs": [
        {
          "output_type": "stream",
          "name": "stdout",
          "text": [
            "+------+-------+------+---------+\n",
            "|userId|movieId|rating|timestamp|\n",
            "+------+-------+------+---------+\n",
            "|     1|      1|   4.0|964982703|\n",
            "|     1|      3|   4.0|964981247|\n",
            "|     1|      6|   4.0|964982224|\n",
            "|     1|     47|   5.0|964983815|\n",
            "|     1|     50|   5.0|964982931|\n",
            "|     1|     70|   3.0|964982400|\n",
            "|     1|    101|   5.0|964980868|\n",
            "|     1|    110|   4.0|964982176|\n",
            "|     1|    151|   5.0|964984041|\n",
            "|     1|    157|   5.0|964984100|\n",
            "|     1|    163|   5.0|964983650|\n",
            "|     1|    216|   5.0|964981208|\n",
            "|     1|    223|   3.0|964980985|\n",
            "|     1|    231|   5.0|964981179|\n",
            "|     1|    235|   4.0|964980908|\n",
            "|     1|    260|   5.0|964981680|\n",
            "|     1|    296|   3.0|964982967|\n",
            "|     1|    316|   3.0|964982310|\n",
            "|     1|    333|   5.0|964981179|\n",
            "|     1|    349|   4.0|964982563|\n",
            "+------+-------+------+---------+\n",
            "only showing top 20 rows\n",
            "\n"
          ]
        }
      ]
    },
    {
      "cell_type": "code",
      "source": [
        "# Join 'df_tags' and 'df_ratings' DataFrames on 'movieId' using inner join\n",
        "# This keeps only the movies that exist in both DataFrames\n",
        "df_ = df_tags.join(df_ratings, on=\"movieId\", how=\"inner\")\n",
        "\n",
        "# Show the first few joined records (combined tag and rating info for each movie)\n",
        "df_.show()\n"
      ],
      "metadata": {
        "colab": {
          "base_uri": "https://localhost:8080/"
        },
        "id": "HCJkWP924ouZ",
        "outputId": "5828f209-b94c-478c-b034-c2a9b2c03ea3"
      },
      "execution_count": null,
      "outputs": [
        {
          "output_type": "stream",
          "name": "stdout",
          "text": [
            "+-------+------+---------------+----------+------+------+---------+\n",
            "|movieId|userId|            tag| timestamp|userId|rating|timestamp|\n",
            "+-------+------+---------------+----------+------+------+---------+\n",
            "|      1|   567|            fun|1525286013|     1|   4.0|964982703|\n",
            "|      1|   474|          pixar|1137206825|     1|   4.0|964982703|\n",
            "|      1|   336|          pixar|1139045764|     1|   4.0|964982703|\n",
            "|      3|   289|            old|1143424860|     1|   4.0|964981247|\n",
            "|      3|   289|          moldy|1143424860|     1|   4.0|964981247|\n",
            "|     47|   474|  serial killer|1137206452|     1|   5.0|964983815|\n",
            "|     47|   424|   twist ending|1457842458|     1|   5.0|964983815|\n",
            "|     47|   424|        mystery|1457842470|     1|   5.0|964983815|\n",
            "|     50|   474|          heist|1137206826|     1|   5.0|964982931|\n",
            "|     50|   424|   twist ending|1457842306|     1|   5.0|964982931|\n",
            "|     50|   424|         tricky|1457842340|     1|   5.0|964982931|\n",
            "|     50|   424|       thriller|1457842332|     1|   5.0|964982931|\n",
            "|     50|   424|       suspense|1457842315|     1|   5.0|964982931|\n",
            "|     50|   424|       mindfuck|1457842328|     1|   5.0|964982931|\n",
            "|    101|   567|         quirky|1525287214|     1|   5.0|964980868|\n",
            "|    101|   567|off-beat comedy|1525287216|     1|   5.0|964980868|\n",
            "|    101|   474|          crime|1138137460|     1|   5.0|964980868|\n",
            "|    110|   474|       Scotland|1137180974|     1|   4.0|964982176|\n",
            "|    110|    62|    sword fight|1528152535|     1|   4.0|964982176|\n",
            "|    110|    62|        revenge|1528152531|     1|   4.0|964982176|\n",
            "+-------+------+---------------+----------+------+------+---------+\n",
            "only showing top 20 rows\n",
            "\n"
          ]
        }
      ]
    },
    {
      "cell_type": "code",
      "source": [
        "# Select only the 'tag' and 'rating' columns from the joined DataFrame\n",
        "df = df_.select(\"tag\", \"rating\")\n",
        "\n",
        "# Show the selected data: each tag with its corresponding rating\n",
        "df.show()\n"
      ],
      "metadata": {
        "colab": {
          "base_uri": "https://localhost:8080/"
        },
        "id": "hX0aJmsV5Ex7",
        "outputId": "b38f959e-203a-48d6-eb9c-4ae550b3255b"
      },
      "execution_count": null,
      "outputs": [
        {
          "output_type": "stream",
          "name": "stdout",
          "text": [
            "+---------------+------+\n",
            "|            tag|rating|\n",
            "+---------------+------+\n",
            "|            fun|   4.0|\n",
            "|          pixar|   4.0|\n",
            "|          pixar|   4.0|\n",
            "|            old|   4.0|\n",
            "|          moldy|   4.0|\n",
            "|  serial killer|   5.0|\n",
            "|   twist ending|   5.0|\n",
            "|        mystery|   5.0|\n",
            "|          heist|   5.0|\n",
            "|   twist ending|   5.0|\n",
            "|         tricky|   5.0|\n",
            "|       thriller|   5.0|\n",
            "|       suspense|   5.0|\n",
            "|       mindfuck|   5.0|\n",
            "|         quirky|   5.0|\n",
            "|off-beat comedy|   5.0|\n",
            "|          crime|   5.0|\n",
            "|       Scotland|   4.0|\n",
            "|    sword fight|   4.0|\n",
            "|        revenge|   4.0|\n",
            "+---------------+------+\n",
            "only showing top 20 rows\n",
            "\n"
          ]
        }
      ]
    },
    {
      "cell_type": "code",
      "source": [
        "# Count how many unique (distinct) tags exist in the DataFrame\n",
        "df.select(\"tag\").distinct().count()\n"
      ],
      "metadata": {
        "colab": {
          "base_uri": "https://localhost:8080/"
        },
        "id": "kbj3pVmR6p9r",
        "outputId": "ff321b22-27b2-4097-a347-e45960b4cb3f"
      },
      "execution_count": null,
      "outputs": [
        {
          "output_type": "execute_result",
          "data": {
            "text/plain": [
              "1584"
            ]
          },
          "metadata": {},
          "execution_count": 7
        }
      ]
    },
    {
      "cell_type": "code",
      "source": [
        "from pyspark.sql.functions import avg\n",
        "\n",
        "# Group data by 'tag' and calculate average rating for each tag\n",
        "# Rename the result column as 'average_rating'\n",
        "df_avg = df.groupBy(\"tag\").agg(avg(\"rating\").alias(\"average_rating\"))\n",
        "\n",
        "# Show the average rating per tag\n",
        "df_avg.show()\n"
      ],
      "metadata": {
        "colab": {
          "base_uri": "https://localhost:8080/"
        },
        "id": "zTwLPeGa5qeA",
        "outputId": "c5af6629-2840-4014-bd9f-a0478914b36a"
      },
      "execution_count": null,
      "outputs": [
        {
          "output_type": "stream",
          "name": "stdout",
          "text": [
            "+--------------------+------------------+\n",
            "|                 tag|    average_rating|\n",
            "+--------------------+------------------+\n",
            "|              ransom|3.9245283018867925|\n",
            "|              freaks|3.7577319587628866|\n",
            "|wrongful imprison...| 4.429022082018927|\n",
            "|        Heartwarming|4.1477272727272725|\n",
            "|               anime| 4.002923976608187|\n",
            "|  intelligent sci-fi| 3.776923076923077|\n",
            "|               1970s|3.7934782608695654|\n",
            "|                 art|             3.675|\n",
            "|             lyrical|              3.58|\n",
            "|                hope|3.4166666666666665|\n",
            "|          creativity|               5.0|\n",
            "|       John Travolta| 4.197068403908795|\n",
            "|intertwining stor...| 4.197068403908795|\n",
            "|        conversation| 4.197068403908795|\n",
            "|              sequel|3.6893305439330546|\n",
            "|               macho| 3.581967213114754|\n",
            "|          Emma Stone|3.8773584905660377|\n",
            "|           Wolverine| 3.723684210526316|\n",
            "|               mafia| 3.649193548387097|\n",
            "|          television|3.5970149253731343|\n",
            "+--------------------+------------------+\n",
            "only showing top 20 rows\n",
            "\n"
          ]
        }
      ]
    },
    {
      "cell_type": "code",
      "source": [
        "# Count how many unique tags have an average rating calculated\n",
        "df_avg.count()\n"
      ],
      "metadata": {
        "colab": {
          "base_uri": "https://localhost:8080/"
        },
        "id": "17rK6Heq6uPN",
        "outputId": "46d99006-9abc-454f-e001-e24d0dbd5658"
      },
      "execution_count": null,
      "outputs": [
        {
          "output_type": "execute_result",
          "data": {
            "text/plain": [
              "1584"
            ]
          },
          "metadata": {},
          "execution_count": 9
        }
      ]
    },
    {
      "cell_type": "code",
      "source": [
        "# Show tags sorted by average rating in descending order (highest rated first)\n",
        "df_avg.orderBy(col(\"average_rating\").desc()).show()"
      ],
      "metadata": {
        "colab": {
          "base_uri": "https://localhost:8080/"
        },
        "id": "9CEboZ4b6Z8I",
        "outputId": "e7004a17-8cc2-485d-a778-a909c8aebdee"
      },
      "execution_count": null,
      "outputs": [
        {
          "output_type": "stream",
          "name": "stdout",
          "text": [
            "+--------------------+-----------------+\n",
            "|                 tag|   average_rating|\n",
            "+--------------------+-----------------+\n",
            "|          creativity|              5.0|\n",
            "|        human rights|              5.0|\n",
            "|          procedural|              5.0|\n",
            "|    free to download|              5.0|\n",
            "|         no dialogue|              5.0|\n",
            "|            Dystopia|             4.75|\n",
            "|   thought provoking|             4.75|\n",
            "|             parrots|             4.75|\n",
            "|            jon hamm|             4.75|\n",
            "| movies about movies|4.666666666666667|\n",
            "|interracial marriage|4.545454545454546|\n",
            "|           prejudice|4.545454545454546|\n",
            "|        Metaphorical|              4.5|\n",
            "|political right v...|              4.5|\n",
            "|       individualism|              4.5|\n",
            "|             freedom|              4.5|\n",
            "|        good writing|              4.5|\n",
            "|     black-and-white|              4.5|\n",
            "|   building a family|              4.5|\n",
            "|               crazy|              4.5|\n",
            "+--------------------+-----------------+\n",
            "only showing top 20 rows\n",
            "\n"
          ]
        }
      ]
    }
  ]
}