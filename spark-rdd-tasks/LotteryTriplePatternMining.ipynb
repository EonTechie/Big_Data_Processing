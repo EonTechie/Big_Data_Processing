{
  "nbformat": 4,
  "nbformat_minor": 0,
  "metadata": {
    "colab": {
      "provenance": [],
      "gpuType": "T4",
      "include_colab_link": true
    },
    "kernelspec": {
      "name": "python3",
      "display_name": "Python 3"
    },
    "language_info": {
      "name": "python"
    },
    "accelerator": "GPU"
  },
  "cells": [
    {
      "cell_type": "markdown",
      "metadata": {
        "id": "view-in-github",
        "colab_type": "text"
      },
      "source": [
        "<a href=\"https://colab.research.google.com/github/EonTechie/Big_Data_Processing_Spark_Projects/blob/main/spark-rdd-tasks/LotteryTriplePatternMining.ipynb\" target=\"_parent\"><img src=\"https://colab.research.google.com/assets/colab-badge.svg\" alt=\"Open In Colab\"/></a>"
      ]
    },
    {
      "cell_type": "code",
      "execution_count": null,
      "metadata": {
        "id": "d_Rp4idEKlJT",
        "colab": {
          "base_uri": "https://localhost:8080/"
        },
        "outputId": "62a04490-8ec3-4263-a01b-31a91a5fc3d8"
      },
      "outputs": [
        {
          "output_type": "stream",
          "name": "stdout",
          "text": [
            "Mounted at /content/drive\n",
            "['2.txt', 'Capitals.txt', 'EartquakeData-07032025.txt', 'DollarDataset.txt', 'couples.txt', 'join-actors.txt', 'points-null-values.txt', 'numbers-test.txt', 'join-series.txt', 'points.txt', 'names.txt', 'Lottery.txt', 'JamesJoyce-Ulyses.txt', 'world.txt', 'points-places.txt', 'Iris.csv', 'ml-latest-small']\n"
          ]
        }
      ],
      "source": [
        "# Filiz-Yıldız-Part1-Question3\n",
        "\"\"\"\n",
        "Dataset: EartquakeData-07032025.txt\n",
        "Goal: For the top 10 earthquakes (1990–2019), find all quakes within 24h and 20km (foreshocks & aftershocks).\n",
        "\n",
        "My Approach:\n",
        "I first filtered the dataset to the required date range (1990–2019).\n",
        "I used RDD transformations to:\n",
        "\n",
        "Parse and clean the data\n",
        "\n",
        "Sort earthquakes by magnitude\n",
        "\n",
        "Select top 10 events Then, for each of these 10, I checked all other earthquakes in the dataset to find those within 24 hours and 20km radius.\n",
        "This was done using custom time and distance logic, keeping the solution RDD-based.\n",
        "\n",
        "Initially, I solved this problem using RDD (Resilient Distributed Dataset). In the RDD solution, I used map and filter functions to process and filter the dataset\n",
        "by applying operations on each element. Then, I calculated the distance and time difference between each pair of earthquakes.\n",
        "\n",
        "Afterward, I attempted to solve the same problem using Spark DataFrame. In the DataFrame solution, I leveraged higher-level data manipulation functions to perform\n",
        "the task in a more efficient and readable way. Specifically, I used functions like isNotNull() and filter() to clean the dataset by removing missing and empty values.\n",
        "Additionally, I calculated the time difference and distance, then filtered out only those earthquake pairs that occurred within 24 hours and were within 20 km of each other.\n",
        "\n",
        "As a result, both approaches yielded the same outcome, but using DataFrame proved to be much faster and more efficient. This experience helped me better understand\n",
        "the differences between RDD and DataFrame, as well as when to use each one for large-scale data processing.\n",
        "\"\"\"\n",
        "\n",
        "# Connect colab to my drive account to fetch the dataset stored there\n",
        "from google.colab import drive\n",
        "drive.mount('/content/drive')\n",
        "\n",
        "# Print files to see the namesof all (optional)\n",
        "import os\n",
        "folder_path = \"/content/drive/My Drive/datasets\"\n",
        "files = os.listdir(folder_path)\n",
        "print(files)"
      ]
    },
    {
      "cell_type": "code",
      "source": [
        "# Import the SparkSession class from the PySpark SQL module as the main entry point for working with structured data (like DataFrames) in Spark\n",
        "from pyspark.sql import SparkSession\n",
        "\n",
        "# Create or retrieve a SparkSession object named 'spark',set the application name for tracking and logging purposes\n",
        "spark = SparkSession.builder.appName(\"Part1-Question3-with-EathquakeData\").getOrCreate()"
      ],
      "metadata": {
        "id": "bjAsWx86LAyH"
      },
      "execution_count": null,
      "outputs": []
    },
    {
      "cell_type": "code",
      "source": [
        "# Initialize SparkContext to interact with Spark\n",
        "sc = spark.sparkContext\n",
        "\n",
        "# Read the text file into an RDD (Resilient Distributed Dataset)\n",
        "rdd = sc.textFile(\"/content/drive/My Drive/datasets/EartquakeData-07032025.txt\")\n",
        "\n",
        "# Print the first 5 records from the RDD to get an idea of the data structure\n",
        "print(rdd.take(5))\n",
        "\n",
        "# Count the total number of records (lines) in the RDD\n",
        "print(rdd.count())\n"
      ],
      "metadata": {
        "colab": {
          "base_uri": "https://localhost:8080/"
        },
        "id": "Z1md_nptQYYd",
        "outputId": "382b7cdc-9247-47e9-a83e-1c9f3e0e827f"
      },
      "execution_count": null,
      "outputs": [
        {
          "output_type": "stream",
          "name": "stdout",
          "text": [
            "['No    \\tDeprem Kodu\\tOlus tarihi\\tOlus zamani\\tEnlem\\tBoylam\\tDer(km)\\txM\\tMD\\tML\\tMw\\tMs\\tMb\\tTip\\tYer', '000001\\t20241129191312\\t2024.11.29\\t19:13:12.53\\t35.8453\\t31.6895\\t009.8\\t4.9\\t0.0\\t4.9\\t4.6\\t0.0\\t0.0\\tKe\\tAKDENIZ', '000002\\t20241129122652\\t2024.11.29\\t12:26:52.13\\t38.2525\\t42.3815\\t006.5\\t3.8\\t0.0\\t3.7\\t3.8\\t0.0\\t0.0\\tKe\\tICLIKAVAL-HIZAN (BITLIS) [South East  0.4 km]', '000003\\t20241128071159\\t2024.11.28\\t07:11:59.85\\t38.0462\\t36.6528\\t005.4\\t4.0\\t0.0\\t4.0\\t3.8\\t0.0\\t0.0\\tKe\\tGUCUKSU-GOKSUN (KAHRAMANMARAS) [South East  0.8 km]', '000004\\t20241127025643\\t2024.11.27\\t02:56:43.09\\t38.2540\\t42.3613\\t005.3\\t4.3\\t0.0\\t4.2\\t4.3\\t0.0\\t0.0\\tKe\\tICLIKAVAL-HIZAN (BITLIS) [West 1.5 km]']\n",
            "20767\n"
          ]
        }
      ]
    },
    {
      "cell_type": "code",
      "source": [
        "# Map operation to clean and split each line by tab (\\t) and remove any leading/trailing whitespace\n",
        "rdd1 = rdd.map(lambda x: x.strip().split('\\t'))\n",
        "\n",
        "# Print the first 5 records after stripping and splitting by tab\n",
        "print(rdd1.take(5))\n",
        "\n",
        "# Count the total number of records (lines) in the RDD (which remains the same after mapping)\n",
        "print(rdd.count())\n"
      ],
      "metadata": {
        "colab": {
          "base_uri": "https://localhost:8080/"
        },
        "id": "QpUvnhEdNJpJ",
        "outputId": "2ae57ab9-ec75-460e-9443-0b00b503623c"
      },
      "execution_count": null,
      "outputs": [
        {
          "output_type": "stream",
          "name": "stdout",
          "text": [
            "[['No    ', 'Deprem Kodu', 'Olus tarihi', 'Olus zamani', 'Enlem', 'Boylam', 'Der(km)', 'xM', 'MD', 'ML', 'Mw', 'Ms', 'Mb', 'Tip', 'Yer'], ['000001', '20241129191312', '2024.11.29', '19:13:12.53', '35.8453', '31.6895', '009.8', '4.9', '0.0', '4.9', '4.6', '0.0', '0.0', 'Ke', 'AKDENIZ'], ['000002', '20241129122652', '2024.11.29', '12:26:52.13', '38.2525', '42.3815', '006.5', '3.8', '0.0', '3.7', '3.8', '0.0', '0.0', 'Ke', 'ICLIKAVAL-HIZAN (BITLIS) [South East  0.4 km]'], ['000003', '20241128071159', '2024.11.28', '07:11:59.85', '38.0462', '36.6528', '005.4', '4.0', '0.0', '4.0', '3.8', '0.0', '0.0', 'Ke', 'GUCUKSU-GOKSUN (KAHRAMANMARAS) [South East  0.8 km]'], ['000004', '20241127025643', '2024.11.27', '02:56:43.09', '38.2540', '42.3613', '005.3', '4.3', '0.0', '4.2', '4.3', '0.0', '0.0', 'Ke', 'ICLIKAVAL-HIZAN (BITLIS) [West 1.5 km]']]\n",
            "20767\n"
          ]
        }
      ]
    },
    {
      "cell_type": "code",
      "source": [
        "# Get the header row (first line) from the dataset\n",
        "header = rdd1.first()\n",
        "\n",
        "# Filter out the header row from the data\n",
        "data = rdd1.filter(lambda row: row != header)\n",
        "\n",
        "# Map each row of data to a dictionary using the header as keys and row values as values\n",
        "records_rdd = data.map(lambda row: dict(zip(header, row)))\n",
        "\n",
        "# Print the first 2 records after converting to dictionary\n",
        "print(records_rdd.take(2))\n",
        "\n",
        "# Count the total number of records in the transformed RDD\n",
        "print(records_rdd.count())\n"
      ],
      "metadata": {
        "colab": {
          "base_uri": "https://localhost:8080/"
        },
        "id": "Y6sLof_pQFtG",
        "outputId": "3269124c-911f-4c8e-bb16-3e7ca99d0a2a"
      },
      "execution_count": null,
      "outputs": [
        {
          "output_type": "stream",
          "name": "stdout",
          "text": [
            "[{'No    ': '000001', 'Deprem Kodu': '20241129191312', 'Olus tarihi': '2024.11.29', 'Olus zamani': '19:13:12.53', 'Enlem': '35.8453', 'Boylam': '31.6895', 'Der(km)': '009.8', 'xM': '4.9', 'MD': '0.0', 'ML': '4.9', 'Mw': '4.6', 'Ms': '0.0', 'Mb': '0.0', 'Tip': 'Ke', 'Yer': 'AKDENIZ'}, {'No    ': '000002', 'Deprem Kodu': '20241129122652', 'Olus tarihi': '2024.11.29', 'Olus zamani': '12:26:52.13', 'Enlem': '38.2525', 'Boylam': '42.3815', 'Der(km)': '006.5', 'xM': '3.8', 'MD': '0.0', 'ML': '3.7', 'Mw': '3.8', 'Ms': '0.0', 'Mb': '0.0', 'Tip': 'Ke', 'Yer': 'ICLIKAVAL-HIZAN (BITLIS) [South East  0.4 km]'}]\n",
            "20766\n"
          ]
        }
      ]
    },
    {
      "cell_type": "code",
      "source": [
        "# Filter records by year (between 1990 and 2019) based on the 'Olus tarihi' (date of occurrence)\n",
        "rdd_by_year = records_rdd.filter(lambda x: int(x['Olus tarihi'].split('.')[0]) >= 1990 and int(x['Olus tarihi'].split('.')[0]) <= 2019)\n",
        "\n",
        "# Print the first 5 records from the filtered RDD\n",
        "print(rdd_by_year.take(5))\n",
        "\n",
        "# Count the total number of records after the year filter\n",
        "print(rdd_by_year.count())\n",
        "\n",
        "# Check the data type of the 'Mw' value in the first record (should be a string, but might need conversion)\n",
        "print(type(rdd_by_year.take(1)[0]['Mw']))\n"
      ],
      "metadata": {
        "colab": {
          "base_uri": "https://localhost:8080/"
        },
        "id": "cV1MH3DoQFvy",
        "outputId": "6ca58203-7006-4006-c790-3b86a9697970"
      },
      "execution_count": null,
      "outputs": [
        {
          "output_type": "stream",
          "name": "stdout",
          "text": [
            "[{'No    ': '003970', 'Deprem Kodu': '20191229112006', 'Olus tarihi': '2019.12.29', 'Olus zamani': '11:20:06.59', 'Enlem': '40.3462', 'Boylam': '42.1595', 'Der(km)': '005.0', 'xM': '4.3', 'MD': '0.0', 'ML': '4.2', 'Mw': '4.3', 'Ms': '0.0', 'Mb': '0.0', 'Tip': 'Ke', 'Yer': 'GULLUDAG-NARMAN (ERZURUM) [South East  3.7 km]'}, {'No    ': '003971', 'Deprem Kodu': '20191228014837', 'Olus tarihi': '2019.12.28', 'Olus zamani': '01:48:37.67', 'Enlem': '35.6587', 'Boylam': '32.0620', 'Der(km)': '031.0', 'xM': '3.6', 'MD': '0.0', 'ML': '3.6', 'Mw': '3.6', 'Ms': '0.0', 'Mb': '0.0', 'Tip': 'Ke', 'Yer': 'AKDENIZ'}, {'No    ': '003972', 'Deprem Kodu': '20191227071131', 'Olus tarihi': '2019.12.27', 'Olus zamani': '07:11:31.39', 'Enlem': '38.3725', 'Boylam': '39.0448', 'Der(km)': '002.2', 'xM': '3.6', 'MD': '0.0', 'ML': '3.6', 'Mw': '0.0', 'Ms': '0.0', 'Mb': '0.0', 'Tip': 'Ke', 'Yer': 'CEVRIMTAS-SIVRICE (ELAZIG) [North West  2.9 km]'}, {'No    ': '003973', 'Deprem Kodu': '20191227070225', 'Olus tarihi': '2019.12.27', 'Olus zamani': '07:02:25.38', 'Enlem': '38.3513', 'Boylam': '38.9847', 'Der(km)': '004.5', 'xM': '5.1', 'MD': '0.0', 'ML': '5.1', 'Mw': '4.8', 'Ms': '0.0', 'Mb': '0.0', 'Tip': 'Ke', 'Yer': 'TOPALUSAGI-SIVRICE (ELAZIG) [North East  0.3 km]'}, {'No    ': '003974', 'Deprem Kodu': '20191226025534', 'Olus tarihi': '2019.12.26', 'Olus zamani': '02:55:34.45', 'Enlem': '39.4388', 'Boylam': '27.9092', 'Der(km)': '009.5', 'xM': '3.5', 'MD': '0.0', 'ML': '3.5', 'Mw': '3.3', 'Ms': '0.0', 'Mb': '0.0', 'Tip': 'Ke', 'Yer': 'BAYAT- (BALIKESIR) [East 0.6 km]'}]\n",
            "11215\n",
            "<class 'str'>\n"
          ]
        }
      ]
    },
    {
      "cell_type": "code",
      "source": [
        "# Map over the filtered RDD to get the type of the 'Mw' field for each record\n",
        "Mw_type = rdd_by_year.map(lambda x: type(x[\"Mw\"])).distinct()\n",
        "\n",
        "# Collect and print the distinct types of 'Mw'\n",
        "Mw_type.collect()\n",
        "\n",
        "# There  may be empty strings '', so we need to filter them out"
      ],
      "metadata": {
        "colab": {
          "base_uri": "https://localhost:8080/"
        },
        "id": "LP4vliHGdaMj",
        "outputId": "25595a15-2280-4e22-b993-339a775637ac"
      },
      "execution_count": null,
      "outputs": [
        {
          "output_type": "execute_result",
          "data": {
            "text/plain": [
              "[str]"
            ]
          },
          "metadata": {},
          "execution_count": 7
        }
      ]
    },
    {
      "cell_type": "code",
      "source": [
        "# Filter out records with empty 'Mw' values and convert 'Mw' to float\n",
        "rdd_max = rdd_by_year.filter(lambda x: x['Mw'] and x['Mw'].strip() not in ['']).map(lambda x: (\n",
        "        x['Yer'],              # Location of the earthquake\n",
        "        x['Enlem'],            # Latitude of the earthquake\n",
        "        x['Deprem Kodu'],      # Earthquake code\n",
        "        x['Boylam'],           # Longitude of the earthquake\n",
        "        x['Olus tarihi'],      # Date of the earthquake\n",
        "        x['Olus zamani'],      # Time of the earthquake\n",
        "        float(x['Mw'])         # Magnitude of the earthquake, converted to float\n",
        "    ))\n",
        "\n",
        "# Print the first 5 records after filtering and converting 'Mw' to float\n",
        "print(rdd_max.take(5))\n",
        "\n",
        "# Print the total count of records after filtering\n",
        "print(rdd_max.count())\n"
      ],
      "metadata": {
        "id": "q43ANLTxQFyZ",
        "colab": {
          "base_uri": "https://localhost:8080/"
        },
        "outputId": "d76661f5-87fc-47c5-94ac-13fa9bcecabd"
      },
      "execution_count": null,
      "outputs": [
        {
          "output_type": "stream",
          "name": "stdout",
          "text": [
            "[('GULLUDAG-NARMAN (ERZURUM) [South East  3.7 km]', '40.3462', '20191229112006', '42.1595', '2019.12.29', '11:20:06.59', 4.3), ('AKDENIZ', '35.6587', '20191228014837', '32.0620', '2019.12.28', '01:48:37.67', 3.6), ('CEVRIMTAS-SIVRICE (ELAZIG) [North West  2.9 km]', '38.3725', '20191227071131', '39.0448', '2019.12.27', '07:11:31.39', 0.0), ('TOPALUSAGI-SIVRICE (ELAZIG) [North East  0.3 km]', '38.3513', '20191227070225', '38.9847', '2019.12.27', '07:02:25.38', 4.8), ('BAYAT- (BALIKESIR) [East 0.6 km]', '39.4388', '20191226025534', '27.9092', '2019.12.26', '02:55:34.45', 3.3)]\n",
            "1954\n"
          ]
        }
      ]
    },
    {
      "cell_type": "code",
      "source": [
        "# Sort the filtered RDD by 'Mw' (magnitude) in descending order to get the most significant earthquakes\n",
        "rdd_most = rdd_max.sortBy(lambda x: x[6], ascending=False)\n",
        "\n",
        "# Print the top 20 most significant earthquakes based on 'Mw'\n",
        "print(rdd_most.take(20))\n",
        "\n",
        "# Print the total number of records in the sorted RDD\n",
        "print(rdd_most.count())\n"
      ],
      "metadata": {
        "colab": {
          "base_uri": "https://localhost:8080/"
        },
        "id": "zDFZsPgMYTi0",
        "outputId": "011c4d3b-9efc-4b84-9b47-31ac582be314"
      },
      "execution_count": null,
      "outputs": [
        {
          "output_type": "stream",
          "name": "stdout",
          "text": [
            "[('BASISKELE (KOCAELI) [North East  2.0 km]', '40.7600', '19990817000137', '29.9700', '1999.08.17', '00:01:37.60', 7.4), ('YEMLICE- (VAN) [North West  1.5 km]', '38.7212', '20111023104121', '43.4110', '2011.10.23', '10:41:21.01', 7.2), ('UGUR- (DUZCE) [North East  0.3 km]', '40.7400', '19991112165720', '31.2100', '1999.11.12', '16:57:20.80', 7.2), ('GOKOVA KORFEZI (AKDENIZ)', '36.9693', '20170720223109', '27.4057', '2017.07.20', '22:31:09.66', 6.6), ('KURTULUS- (BINGOL) [South West  4.3 km]', '39.0100', '20030501002704', '40.4600', '2003.05.01', '00:27:04.40', 6.4), ('AKDENIZ', '35.7948', '20080715032633', '27.8798', '2008.07.15', '03:26:33.58', 6.3), ('EGE DENIZI', '38.8468', '20170612122837', '26.3252', '2017.06.12', '12:28:37.53', 6.1), ('AKDENIZ', '35.5138', '20110401132908', '26.5798', '2011.04.01', '13:29:08.56', 6.1), ('ISAAGAMEZRASI-KOVANCILAR (ELAZIG) [South West  0.6 km]', '38.8300', '20100308023231', '40.1308', '2010.03.08', '02:32:31.09', 6.1), ('SAGLAMTAS-PULUMUR (TUNCELI) [North West  4.3 km]', '39.4800', '20030127052628', '39.7700', '2003.01.27', '05:26:28.00', 6.1), ('COBANLAR (AFYONKARAHISAR) [South East  4.1 km]', '38.6800', '20020203092644', '30.8200', '2002.02.03', '09:26:44.10', 6.0), ('TASKOPRU-SULTANDAGI (AFYONKARAHISAR) [West 3.4 km]', '38.5800', '20020203071128', '31.2500', '2002.02.03', '07:11:28.60', 6.0), ('VAN G�L�', '38.6377', '20111023204534', '43.0828', '2011.10.23', '20:45:34.85', 5.9), ('DEMIRCILI-URLA (IZMIR) [South West  9.6 km]', '38.1812', '20051020214001', '26.5940', '2005.10.20', '21:40:01.41', 5.9), ('OTLUCA- (HAKKARI) [South West  3.6 km]', '37.5700', '20050125164412', '43.6800', '2005.01.25', '16:44:12.20', 5.9), ('GIRIT ADASI (AKDENIZ)', '35.1613', '20150416180744', '26.9055', '2015.04.16', '18:07:44.80', 5.8), ('SOGUT-SIMAV (K�TAHYA) [North East  3.2 km]', '39.1553', '20110519201522', '29.0893', '2011.05.19', '20:15:22.94', 5.8), ('ZEYTINELI-URLA (IZMIR) [South East  9.5 km]', '38.1570', '20051017094653', '26.5268', '2005.10.17', '09:46:53.97', 5.8), ('KAZANLI-KARLIOVA (BINGOL) [South West  4.2 km]', '39.3475', '20050314015555', '40.8847', '2005.03.14', '01:55:55.60', 5.8), ('AKDENIZ', '35.7965', '20050123223604', '29.6023', '2005.01.23', '22:36:04.66', 5.8)]\n",
            "1954\n"
          ]
        }
      ]
    },
    {
      "cell_type": "code",
      "source": [
        "# Take the top 10 most significant earthquakes (based on 'Mw') from the sorted RDD\n",
        "rdd_10 = rdd_most.take(10)\n",
        "\n",
        "# Parallelize the top 10 earthquakes into a new RDD to prepare for Cartesian product calculation\n",
        "rdd_top10 = sc.parallelize(rdd_10)\n",
        "\n",
        "# Print the number of records in the rdd_top10 RDD (which should be 10)\n",
        "print(rdd_top10.count())\n",
        "\n",
        "# Print the top 10 earthquakes (as a check)\n",
        "rdd_top10.take(10)\n"
      ],
      "metadata": {
        "colab": {
          "base_uri": "https://localhost:8080/"
        },
        "id": "e6J2gG73hm8W",
        "outputId": "343854be-d204-4465-80af-952e55716058"
      },
      "execution_count": null,
      "outputs": [
        {
          "output_type": "stream",
          "name": "stdout",
          "text": [
            "10\n"
          ]
        },
        {
          "output_type": "execute_result",
          "data": {
            "text/plain": [
              "[('BASISKELE (KOCAELI) [North East  2.0 km]',\n",
              "  '40.7600',\n",
              "  '19990817000137',\n",
              "  '29.9700',\n",
              "  '1999.08.17',\n",
              "  '00:01:37.60',\n",
              "  7.4),\n",
              " ('YEMLICE- (VAN) [North West  1.5 km]',\n",
              "  '38.7212',\n",
              "  '20111023104121',\n",
              "  '43.4110',\n",
              "  '2011.10.23',\n",
              "  '10:41:21.01',\n",
              "  7.2),\n",
              " ('UGUR- (DUZCE) [North East  0.3 km]',\n",
              "  '40.7400',\n",
              "  '19991112165720',\n",
              "  '31.2100',\n",
              "  '1999.11.12',\n",
              "  '16:57:20.80',\n",
              "  7.2),\n",
              " ('GOKOVA KORFEZI (AKDENIZ)',\n",
              "  '36.9693',\n",
              "  '20170720223109',\n",
              "  '27.4057',\n",
              "  '2017.07.20',\n",
              "  '22:31:09.66',\n",
              "  6.6),\n",
              " ('KURTULUS- (BINGOL) [South West  4.3 km]',\n",
              "  '39.0100',\n",
              "  '20030501002704',\n",
              "  '40.4600',\n",
              "  '2003.05.01',\n",
              "  '00:27:04.40',\n",
              "  6.4),\n",
              " ('AKDENIZ',\n",
              "  '35.7948',\n",
              "  '20080715032633',\n",
              "  '27.8798',\n",
              "  '2008.07.15',\n",
              "  '03:26:33.58',\n",
              "  6.3),\n",
              " ('EGE DENIZI',\n",
              "  '38.8468',\n",
              "  '20170612122837',\n",
              "  '26.3252',\n",
              "  '2017.06.12',\n",
              "  '12:28:37.53',\n",
              "  6.1),\n",
              " ('AKDENIZ',\n",
              "  '35.5138',\n",
              "  '20110401132908',\n",
              "  '26.5798',\n",
              "  '2011.04.01',\n",
              "  '13:29:08.56',\n",
              "  6.1),\n",
              " ('ISAAGAMEZRASI-KOVANCILAR (ELAZIG) [South West  0.6 km]',\n",
              "  '38.8300',\n",
              "  '20100308023231',\n",
              "  '40.1308',\n",
              "  '2010.03.08',\n",
              "  '02:32:31.09',\n",
              "  6.1),\n",
              " ('SAGLAMTAS-PULUMUR (TUNCELI) [North West  4.3 km]',\n",
              "  '39.4800',\n",
              "  '20030127052628',\n",
              "  '39.7700',\n",
              "  '2003.01.27',\n",
              "  '05:26:28.00',\n",
              "  6.1)]"
            ]
          },
          "metadata": {},
          "execution_count": 10
        }
      ]
    },
    {
      "cell_type": "code",
      "source": [
        "# Create a new RDD with all earthquakes excluding the top 10 by using zipWithIndex and filtering out the first 10 records for preparing the remaining rdd\n",
        "rdd_rest = rdd_most.zipWithIndex().filter(lambda x: x[1] >= 10).map(lambda x: x[0])\n",
        "\n",
        "# Print the first 10 records of the rest of the earthquakes (excluding the top 10)\n",
        "print(rdd_rest.take(10))\n",
        "\n",
        "# Print the total count of earthquakes in the rdd_rest RDD\n",
        "print(rdd_rest.count())"
      ],
      "metadata": {
        "colab": {
          "base_uri": "https://localhost:8080/"
        },
        "id": "bwhmjRKah8yR",
        "outputId": "574b143d-e8aa-454f-b4c9-0e5d4e137cc4"
      },
      "execution_count": null,
      "outputs": [
        {
          "output_type": "stream",
          "name": "stdout",
          "text": [
            "[('COBANLAR (AFYONKARAHISAR) [South East  4.1 km]', '38.6800', '20020203092644', '30.8200', '2002.02.03', '09:26:44.10', 6.0), ('TASKOPRU-SULTANDAGI (AFYONKARAHISAR) [West 3.4 km]', '38.5800', '20020203071128', '31.2500', '2002.02.03', '07:11:28.60', 6.0), ('VAN G�L�', '38.6377', '20111023204534', '43.0828', '2011.10.23', '20:45:34.85', 5.9), ('DEMIRCILI-URLA (IZMIR) [South West  9.6 km]', '38.1812', '20051020214001', '26.5940', '2005.10.20', '21:40:01.41', 5.9), ('OTLUCA- (HAKKARI) [South West  3.6 km]', '37.5700', '20050125164412', '43.6800', '2005.01.25', '16:44:12.20', 5.9), ('GIRIT ADASI (AKDENIZ)', '35.1613', '20150416180744', '26.9055', '2015.04.16', '18:07:44.80', 5.8), ('SOGUT-SIMAV (K�TAHYA) [North East  3.2 km]', '39.1553', '20110519201522', '29.0893', '2011.05.19', '20:15:22.94', 5.8), ('ZEYTINELI-URLA (IZMIR) [South East  9.5 km]', '38.1570', '20051017094653', '26.5268', '2005.10.17', '09:46:53.97', 5.8), ('KAZANLI-KARLIOVA (BINGOL) [South West  4.2 km]', '39.3475', '20050314015555', '40.8847', '2005.03.14', '01:55:55.60', 5.8), ('AKDENIZ', '35.7965', '20050123223604', '29.6023', '2005.01.23', '22:36:04.66', 5.8)]\n",
            "1944\n"
          ]
        }
      ]
    },
    {
      "cell_type": "code",
      "source": [
        "# Create a Cartesian product of the top 10 earthquakes (rdd_top10) and the remaining earthquakes (rdd_rest)\n",
        "rdd_cart = rdd_top10.cartesian(rdd_rest)\n",
        "\n",
        "# Print the first 20 pairs of earthquakes from the Cartesian product\n",
        "print(rdd_cart.take(20))\n",
        "\n",
        "# Print the total count of pairs in the Cartesian product\n",
        "print(rdd_cart.count())\n"
      ],
      "metadata": {
        "colab": {
          "base_uri": "https://localhost:8080/"
        },
        "id": "0KJUG-F6hcX2",
        "outputId": "1bd381e3-8eec-4b5d-a2b6-f48672cb0a02"
      },
      "execution_count": null,
      "outputs": [
        {
          "output_type": "stream",
          "name": "stdout",
          "text": [
            "[(('BASISKELE (KOCAELI) [North East  2.0 km]', '40.7600', '19990817000137', '29.9700', '1999.08.17', '00:01:37.60', 7.4), ('COBANLAR (AFYONKARAHISAR) [South East  4.1 km]', '38.6800', '20020203092644', '30.8200', '2002.02.03', '09:26:44.10', 6.0)), (('YEMLICE- (VAN) [North West  1.5 km]', '38.7212', '20111023104121', '43.4110', '2011.10.23', '10:41:21.01', 7.2), ('COBANLAR (AFYONKARAHISAR) [South East  4.1 km]', '38.6800', '20020203092644', '30.8200', '2002.02.03', '09:26:44.10', 6.0)), (('UGUR- (DUZCE) [North East  0.3 km]', '40.7400', '19991112165720', '31.2100', '1999.11.12', '16:57:20.80', 7.2), ('COBANLAR (AFYONKARAHISAR) [South East  4.1 km]', '38.6800', '20020203092644', '30.8200', '2002.02.03', '09:26:44.10', 6.0)), (('GOKOVA KORFEZI (AKDENIZ)', '36.9693', '20170720223109', '27.4057', '2017.07.20', '22:31:09.66', 6.6), ('COBANLAR (AFYONKARAHISAR) [South East  4.1 km]', '38.6800', '20020203092644', '30.8200', '2002.02.03', '09:26:44.10', 6.0)), (('KURTULUS- (BINGOL) [South West  4.3 km]', '39.0100', '20030501002704', '40.4600', '2003.05.01', '00:27:04.40', 6.4), ('COBANLAR (AFYONKARAHISAR) [South East  4.1 km]', '38.6800', '20020203092644', '30.8200', '2002.02.03', '09:26:44.10', 6.0)), (('BASISKELE (KOCAELI) [North East  2.0 km]', '40.7600', '19990817000137', '29.9700', '1999.08.17', '00:01:37.60', 7.4), ('TASKOPRU-SULTANDAGI (AFYONKARAHISAR) [West 3.4 km]', '38.5800', '20020203071128', '31.2500', '2002.02.03', '07:11:28.60', 6.0)), (('BASISKELE (KOCAELI) [North East  2.0 km]', '40.7600', '19990817000137', '29.9700', '1999.08.17', '00:01:37.60', 7.4), ('VAN G�L�', '38.6377', '20111023204534', '43.0828', '2011.10.23', '20:45:34.85', 5.9)), (('YEMLICE- (VAN) [North West  1.5 km]', '38.7212', '20111023104121', '43.4110', '2011.10.23', '10:41:21.01', 7.2), ('TASKOPRU-SULTANDAGI (AFYONKARAHISAR) [West 3.4 km]', '38.5800', '20020203071128', '31.2500', '2002.02.03', '07:11:28.60', 6.0)), (('YEMLICE- (VAN) [North West  1.5 km]', '38.7212', '20111023104121', '43.4110', '2011.10.23', '10:41:21.01', 7.2), ('VAN G�L�', '38.6377', '20111023204534', '43.0828', '2011.10.23', '20:45:34.85', 5.9)), (('UGUR- (DUZCE) [North East  0.3 km]', '40.7400', '19991112165720', '31.2100', '1999.11.12', '16:57:20.80', 7.2), ('TASKOPRU-SULTANDAGI (AFYONKARAHISAR) [West 3.4 km]', '38.5800', '20020203071128', '31.2500', '2002.02.03', '07:11:28.60', 6.0)), (('UGUR- (DUZCE) [North East  0.3 km]', '40.7400', '19991112165720', '31.2100', '1999.11.12', '16:57:20.80', 7.2), ('VAN G�L�', '38.6377', '20111023204534', '43.0828', '2011.10.23', '20:45:34.85', 5.9)), (('GOKOVA KORFEZI (AKDENIZ)', '36.9693', '20170720223109', '27.4057', '2017.07.20', '22:31:09.66', 6.6), ('TASKOPRU-SULTANDAGI (AFYONKARAHISAR) [West 3.4 km]', '38.5800', '20020203071128', '31.2500', '2002.02.03', '07:11:28.60', 6.0)), (('GOKOVA KORFEZI (AKDENIZ)', '36.9693', '20170720223109', '27.4057', '2017.07.20', '22:31:09.66', 6.6), ('VAN G�L�', '38.6377', '20111023204534', '43.0828', '2011.10.23', '20:45:34.85', 5.9)), (('KURTULUS- (BINGOL) [South West  4.3 km]', '39.0100', '20030501002704', '40.4600', '2003.05.01', '00:27:04.40', 6.4), ('TASKOPRU-SULTANDAGI (AFYONKARAHISAR) [West 3.4 km]', '38.5800', '20020203071128', '31.2500', '2002.02.03', '07:11:28.60', 6.0)), (('KURTULUS- (BINGOL) [South West  4.3 km]', '39.0100', '20030501002704', '40.4600', '2003.05.01', '00:27:04.40', 6.4), ('VAN G�L�', '38.6377', '20111023204534', '43.0828', '2011.10.23', '20:45:34.85', 5.9)), (('BASISKELE (KOCAELI) [North East  2.0 km]', '40.7600', '19990817000137', '29.9700', '1999.08.17', '00:01:37.60', 7.4), ('DEMIRCILI-URLA (IZMIR) [South West  9.6 km]', '38.1812', '20051020214001', '26.5940', '2005.10.20', '21:40:01.41', 5.9)), (('BASISKELE (KOCAELI) [North East  2.0 km]', '40.7600', '19990817000137', '29.9700', '1999.08.17', '00:01:37.60', 7.4), ('OTLUCA- (HAKKARI) [South West  3.6 km]', '37.5700', '20050125164412', '43.6800', '2005.01.25', '16:44:12.20', 5.9)), (('BASISKELE (KOCAELI) [North East  2.0 km]', '40.7600', '19990817000137', '29.9700', '1999.08.17', '00:01:37.60', 7.4), ('GIRIT ADASI (AKDENIZ)', '35.1613', '20150416180744', '26.9055', '2015.04.16', '18:07:44.80', 5.8)), (('BASISKELE (KOCAELI) [North East  2.0 km]', '40.7600', '19990817000137', '29.9700', '1999.08.17', '00:01:37.60', 7.4), ('SOGUT-SIMAV (K�TAHYA) [North East  3.2 km]', '39.1553', '20110519201522', '29.0893', '2011.05.19', '20:15:22.94', 5.8)), (('YEMLICE- (VAN) [North West  1.5 km]', '38.7212', '20111023104121', '43.4110', '2011.10.23', '10:41:21.01', 7.2), ('DEMIRCILI-URLA (IZMIR) [South West  9.6 km]', '38.1812', '20051020214001', '26.5940', '2005.10.20', '21:40:01.41', 5.9))]\n",
            "19440\n"
          ]
        }
      ]
    },
    {
      "cell_type": "code",
      "source": [
        "import math\n",
        "from math import radians, sin, cos, sqrt, atan2\n",
        "from datetime import datetime\n",
        "\n",
        "# Haversine function (calculating distance)\n",
        "def haversine(lat1, lon1, lat2, lon2):\n",
        "    R = 6371  # Earth radius in km\n",
        "    dlat = radians(lat2 - lat1)\n",
        "    dlon = radians(lon2 - lon1)\n",
        "\n",
        "    a = sin(dlat / 2)**2 + cos(radians(lat1)) * cos(radians(lat2)) * sin(dlon / 2)**2\n",
        "    c = 2 * atan2(sqrt(a), sqrt(1 - a))\n",
        "    return R * c  # Distance in kilometers\n",
        "\n",
        "# Function to convert date and time to datetime object\n",
        "def to_datetime(date_str, time_str):\n",
        "    return datetime.strptime(date_str + \" \" + time_str, \"%Y.%m.%d %H:%M:%S.%f\")\n",
        "\n",
        "# Filter the RDD for earthquakes that are within 20 km and occurred within 24 hours\n",
        "result_rdd = rdd_cart.filter(\n",
        "    lambda x: (haversine(\n",
        "        float(x[0][1]), float(x[0][3]),  # First earthquake (lat, lon)\n",
        "        float(x[1][1]), float(x[1][3])   # Second earthquake (lat, lon)\n",
        "    ) <= 20) and (abs(to_datetime(x[1][4], x[1][5]) - to_datetime(x[0][4], x[0][5])).total_seconds() <= 86400)\n",
        ")\n",
        "\n",
        "# Print the count of the filtered earthquakes\n",
        "print(result_rdd.count())\n",
        "\n",
        "# Take a sample of the filtered earthquakes\n",
        "result_rdd.take(5)\n"
      ],
      "metadata": {
        "colab": {
          "base_uri": "https://localhost:8080/"
        },
        "id": "YWaDQlTwAKLe",
        "outputId": "92aa0b0a-fbea-49ec-f24f-607bd9238be9"
      },
      "execution_count": null,
      "outputs": [
        {
          "output_type": "stream",
          "name": "stdout",
          "text": [
            "88\n"
          ]
        },
        {
          "output_type": "execute_result",
          "data": {
            "text/plain": [
              "[(('GOKOVA KORFEZI (AKDENIZ)',\n",
              "   '36.9693',\n",
              "   '20170720223109',\n",
              "   '27.4057',\n",
              "   '2017.07.20',\n",
              "   '22:31:09.66',\n",
              "   6.6),\n",
              "  ('AKYARLAR-BODRUM (MUGLA) [South West  4.5 km]',\n",
              "   '36.9465',\n",
              "   '20170721170946',\n",
              "   '27.2537',\n",
              "   '2017.07.21',\n",
              "   '17:09:46.28',\n",
              "   4.9)),\n",
              " (('GOKOVA KORFEZI (AKDENIZ)',\n",
              "   '36.9693',\n",
              "   '20170720223109',\n",
              "   '27.4057',\n",
              "   '2017.07.20',\n",
              "   '22:31:09.66',\n",
              "   6.6),\n",
              "  ('AKYARLAR-BODRUM (MUGLA) [South East  2.2 km]',\n",
              "   '36.9580',\n",
              "   '20170720232351',\n",
              "   '27.3103',\n",
              "   '2017.07.20',\n",
              "   '23:23:51.44',\n",
              "   4.9)),\n",
              " (('GOKOVA KORFEZI (AKDENIZ)',\n",
              "   '36.9693',\n",
              "   '20170720223109',\n",
              "   '27.4057',\n",
              "   '2017.07.20',\n",
              "   '22:31:09.66',\n",
              "   6.6),\n",
              "  ('GOKOVA KORFEZI (AKDENIZ)',\n",
              "   '36.9198',\n",
              "   '20170721050359',\n",
              "   '27.5538',\n",
              "   '2017.07.21',\n",
              "   '05:03:59.39',\n",
              "   4.5)),\n",
              " (('GOKOVA KORFEZI (AKDENIZ)',\n",
              "   '36.9693',\n",
              "   '20170720223109',\n",
              "   '27.4057',\n",
              "   '2017.07.20',\n",
              "   '22:31:09.66',\n",
              "   6.6),\n",
              "  ('GOKOVA KORFEZI (AKDENIZ)',\n",
              "   '36.8833',\n",
              "   '20170721021234',\n",
              "   '27.3415',\n",
              "   '2017.07.21',\n",
              "   '02:12:34.29',\n",
              "   4.5)),\n",
              " (('GOKOVA KORFEZI (AKDENIZ)',\n",
              "   '36.9693',\n",
              "   '20170720223109',\n",
              "   '27.4057',\n",
              "   '2017.07.20',\n",
              "   '22:31:09.66',\n",
              "   6.6),\n",
              "  ('GOKOVA KORFEZI (AKDENIZ)',\n",
              "   '36.9320',\n",
              "   '20170721013848',\n",
              "   '27.5367',\n",
              "   '2017.07.21',\n",
              "   '01:38:48.93',\n",
              "   4.5))]"
            ]
          },
          "metadata": {},
          "execution_count": 13
        }
      ]
    },
    {
      "cell_type": "code",
      "source": [
        "# Map the filtered earthquake pairs to a new RDD with the following structure:\n",
        "# (main_eq, related_eq, type, time_diff_hours, distance_km)\n",
        "# - Assign \"foreshock\" if the related event occurred before the main event, otherwise \"aftershock\"\n",
        "# - Compute time difference in hours\n",
        "# - Compute spatial distance in kilometers using Haversine formula\n",
        "rdd_labeled = result_rdd.map(\n",
        "    lambda x: (\n",
        "        x[0], x[1],  # main and related earthquake\n",
        "        (\"foreshock\" if to_datetime(x[1][4], x[1][5]) < to_datetime(x[0][4], x[0][5]) else \"aftershock\"),\n",
        "        abs((to_datetime(x[1][4], x[1][5]) - to_datetime(x[0][4], x[0][5])).total_seconds()) / 3600,\n",
        "        haversine(\n",
        "            float(x[0][1]), float(x[0][3]),  # main earthquake lat, lon\n",
        "            float(x[1][1]), float(x[1][3])   # related earthquake lat, lon\n",
        "        )\n",
        "    )\n",
        ")\n",
        "\n",
        "# Show example output\n",
        "print(rdd_labeled.take(5))\n",
        "print(rdd_labeled.count())\n"
      ],
      "metadata": {
        "colab": {
          "base_uri": "https://localhost:8080/"
        },
        "id": "erdra4BUiqsd",
        "outputId": "56f67a29-59a6-478d-e320-31989f22c767"
      },
      "execution_count": null,
      "outputs": [
        {
          "output_type": "stream",
          "name": "stdout",
          "text": [
            "[(('GOKOVA KORFEZI (AKDENIZ)', '36.9693', '20170720223109', '27.4057', '2017.07.20', '22:31:09.66', 6.6), ('AKYARLAR-BODRUM (MUGLA) [South West  4.5 km]', '36.9465', '20170721170946', '27.2537', '2017.07.21', '17:09:46.28', 4.9), 'aftershock', 18.643505555555553, 13.741603119208985), (('GOKOVA KORFEZI (AKDENIZ)', '36.9693', '20170720223109', '27.4057', '2017.07.20', '22:31:09.66', 6.6), ('AKYARLAR-BODRUM (MUGLA) [South East  2.2 km]', '36.9580', '20170720232351', '27.3103', '2017.07.20', '23:23:51.44', 4.9), 'aftershock', 0.8782722222222222, 8.568598104198921), (('GOKOVA KORFEZI (AKDENIZ)', '36.9693', '20170720223109', '27.4057', '2017.07.20', '22:31:09.66', 6.6), ('GOKOVA KORFEZI (AKDENIZ)', '36.9198', '20170721050359', '27.5538', '2017.07.21', '05:03:59.39', 4.5), 'aftershock', 6.547147222222222, 14.266057753856034), (('GOKOVA KORFEZI (AKDENIZ)', '36.9693', '20170720223109', '27.4057', '2017.07.20', '22:31:09.66', 6.6), ('GOKOVA KORFEZI (AKDENIZ)', '36.8833', '20170721021234', '27.3415', '2017.07.21', '02:12:34.29', 4.5), 'aftershock', 3.690175, 11.136132752939483), (('GOKOVA KORFEZI (AKDENIZ)', '36.9693', '20170720223109', '27.4057', '2017.07.20', '22:31:09.66', 6.6), ('GOKOVA KORFEZI (AKDENIZ)', '36.9320', '20170721013848', '27.5367', '2017.07.21', '01:38:48.93', 4.5), 'aftershock', 3.127575, 12.357703371292097)]\n",
            "88\n"
          ]
        }
      ]
    },
    {
      "cell_type": "code",
      "source": [
        "# Collect the top 10 largest magnitude earthquakes as a Python list\n",
        "top10_list = rdd_top10.collect()\n",
        "\n",
        "# Collect the labeled related events (foreshocks/aftershocks) as a Python list\n",
        "result_list = rdd_labeled.collect()\n",
        "\n",
        "# Print the first main earthquake from the top 10 list to heck list order\n",
        "print(top10_list[0])\n",
        "\n",
        "# Print the first labeled related event with its main earthquake, type, time diff, and distance to check list order\n",
        "print(result_list[0])\n"
      ],
      "metadata": {
        "colab": {
          "base_uri": "https://localhost:8080/"
        },
        "id": "xsRrwYhTLY5h",
        "outputId": "1704dcc8-712e-4a22-aec6-eef9f7c2492b"
      },
      "execution_count": null,
      "outputs": [
        {
          "output_type": "stream",
          "name": "stdout",
          "text": [
            "('BASISKELE (KOCAELI) [North East  2.0 km]', '40.7600', '19990817000137', '29.9700', '1999.08.17', '00:01:37.60', 7.4)\n",
            "(('GOKOVA KORFEZI (AKDENIZ)', '36.9693', '20170720223109', '27.4057', '2017.07.20', '22:31:09.66', 6.6), ('AKYARLAR-BODRUM (MUGLA) [South West  4.5 km]', '36.9465', '20170721170946', '27.2537', '2017.07.21', '17:09:46.28', 4.9), 'aftershock', 18.643505555555553, 13.741603119208985)\n"
          ]
        }
      ]
    },
    {
      "cell_type": "code",
      "source": [
        "# This function prints a formatted summary of main earthquakes and their related shocks.\n",
        "# It takes two inputs:\n",
        "# 1. main_quakes: list of top 10 main earthquakes\n",
        "# 2. labeled_shocks: list of related events (aftershocks or foreshocks) with their type, distance, and time difference\n",
        "\n",
        "def print_quake_summary(main_quakes, labeled_shocks):\n",
        "    for main in main_quakes:\n",
        "        main_name, lat, quake_id, lon, date, time, mag = main\n",
        "\n",
        "        # Print section header for each main earthquake\n",
        "        print(\"-----------------------------------------------------------------------------------------------------------------------\\n\")\n",
        "        print(\"MAIN EARTHQUAKE:\")\n",
        "\n",
        "        # Print table headers for main earthquake info\n",
        "        print(\"Main EQ ID\\t\\tMain_Location\\t\\t\\t\\t\\t\\tMain Magnitude\")\n",
        "        # Print main earthquake info\n",
        "        print(f\"{quake_id:<20}\\t{main_name:<50}\\t\\t{mag:<20}\\t\")\n",
        "        print()\n",
        "\n",
        "        # Print header for related shocks\n",
        "        print(\"RELATED SHOCKS:\")\n",
        "        print(\"Related EQ ID\\t\\tRelated Location\\t\\t\\t\\t\\tRelated Magnitude\\tType\\t\\t\\tDistance km\\tTime Diff hrs\")\n",
        "\n",
        "        # Print all related shocks (foreshocks or aftershocks) for this main earthquake\n",
        "        for m, shock, shock_type, distance, time_diff in labeled_shocks:\n",
        "            if m == main:\n",
        "                print(f\"{shock[2]:<20}\\t{shock[0]:<50}\\t\\t{shock[6]:<6}\\t\\t{shock_type.capitalize()}\\t\\t{distance:.2f}\\t\\t{time_diff:.2f}\\t\\t\")\n",
        "\n",
        "        print(\"================================================================================\\n\")\n",
        "\n",
        "# Call the function with collected main earthquakes and labeled shocks\n",
        "print_quake_summary(top10_list, result_list)\n"
      ],
      "metadata": {
        "colab": {
          "base_uri": "https://localhost:8080/"
        },
        "id": "Xn1z5OwESDlP",
        "outputId": "c9ecdf4b-e1ff-4edf-973d-65a118597667"
      },
      "execution_count": null,
      "outputs": [
        {
          "output_type": "stream",
          "name": "stdout",
          "text": [
            "-----------------------------------------------------------------------------------------------------------------------\n",
            "\n",
            "MAIN EARTHQUAKE:\n",
            "Main EQ ID\t\tMain_Location\t\t\t\t\t\tMain Magnitude\n",
            "19990817000137      \tBASISKELE (KOCAELI) [North East  2.0 km]          \t\t7.4                 \t\n",
            "\n",
            "RELATED SHOCKS:\n",
            "Related EQ ID\t\tRelated Location\t\t\t\t\tRelated Magnitude\tType\t\t\tDistance km\tTime Diff hrs\n",
            "================================================================================\n",
            "\n",
            "-----------------------------------------------------------------------------------------------------------------------\n",
            "\n",
            "MAIN EARTHQUAKE:\n",
            "Main EQ ID\t\tMain_Location\t\t\t\t\t\tMain Magnitude\n",
            "20111023104121      \tYEMLICE- (VAN) [North West  1.5 km]               \t\t7.2                 \t\n",
            "\n",
            "RELATED SHOCKS:\n",
            "Related EQ ID\t\tRelated Location\t\t\t\t\tRelated Magnitude\tType\t\t\tDistance km\tTime Diff hrs\n",
            "================================================================================\n",
            "\n",
            "-----------------------------------------------------------------------------------------------------------------------\n",
            "\n",
            "MAIN EARTHQUAKE:\n",
            "Main EQ ID\t\tMain_Location\t\t\t\t\t\tMain Magnitude\n",
            "19991112165720      \tUGUR- (DUZCE) [North East  0.3 km]                \t\t7.2                 \t\n",
            "\n",
            "RELATED SHOCKS:\n",
            "Related EQ ID\t\tRelated Location\t\t\t\t\tRelated Magnitude\tType\t\t\tDistance km\tTime Diff hrs\n",
            "================================================================================\n",
            "\n",
            "-----------------------------------------------------------------------------------------------------------------------\n",
            "\n",
            "MAIN EARTHQUAKE:\n",
            "Main EQ ID\t\tMain_Location\t\t\t\t\t\tMain Magnitude\n",
            "20170720223109      \tGOKOVA KORFEZI (AKDENIZ)                          \t\t6.6                 \t\n",
            "\n",
            "RELATED SHOCKS:\n",
            "Related EQ ID\t\tRelated Location\t\t\t\t\tRelated Magnitude\tType\t\t\tDistance km\tTime Diff hrs\n",
            "20170721170946      \tAKYARLAR-BODRUM (MUGLA) [South West  4.5 km]      \t\t4.9   \t\tAftershock\t\t18.64\t\t13.74\t\t\n",
            "20170720232351      \tAKYARLAR-BODRUM (MUGLA) [South East  2.2 km]      \t\t4.9   \t\tAftershock\t\t0.88\t\t8.57\t\t\n",
            "20170721050359      \tGOKOVA KORFEZI (AKDENIZ)                          \t\t4.5   \t\tAftershock\t\t6.55\t\t14.27\t\t\n",
            "20170721021234      \tGOKOVA KORFEZI (AKDENIZ)                          \t\t4.5   \t\tAftershock\t\t3.69\t\t11.14\t\t\n",
            "20170721013848      \tGOKOVA KORFEZI (AKDENIZ)                          \t\t4.5   \t\tAftershock\t\t3.13\t\t12.36\t\t\n",
            "20170721035901      \tGOKOVA KORFEZI (AKDENIZ)                          \t\t4.4   \t\tAftershock\t\t5.46\t\t17.09\t\t\n",
            "20170721013543      \tGOKOVA KORFEZI (AKDENIZ)                          \t\t4.4   \t\tAftershock\t\t3.08\t\t15.51\t\t\n",
            "20170721051358      \tGOKOVA KORFEZI (AKDENIZ)                          \t\t4.3   \t\tAftershock\t\t6.71\t\t19.24\t\t\n",
            "20170721055213      \tGOKOVA KORFEZI (AKDENIZ)                          \t\t4.2   \t\tAftershock\t\t7.35\t\t3.60\t\t\n",
            "20170721015627      \tGOKOVA KORFEZI (AKDENIZ)                          \t\t4.2   \t\tAftershock\t\t3.42\t\t4.44\t\t\n",
            "20170721015029      \tYALI-BODRUM (MUGLA) [South East  5.2 km]          \t\t4.2   \t\tAftershock\t\t3.32\t\t3.08\t\t\n",
            "20170721012534      \tBODRUM (MUGLA) [South 6.5 km]                     \t\t4.1   \t\tAftershock\t\t2.91\t\t1.69\t\t\n",
            "20170721005355      \tGOKOVA KORFEZI (AKDENIZ)                          \t\t4.1   \t\tAftershock\t\t2.38\t\t6.98\t\t\n",
            "20170721001640      \tAKYARLAR-BODRUM (MUGLA) [East 3.4 km]             \t\t4.1   \t\tAftershock\t\t1.76\t\t6.64\t\t\n",
            "20170720234507      \tGOKOVA KORFEZI (AKDENIZ)                          \t\t4.1   \t\tAftershock\t\t1.23\t\t3.23\t\t\n",
            "20170721070523      \tGOKOVA KORFEZI (AKDENIZ)                          \t\t4.0   \t\tAftershock\t\t8.57\t\t8.60\t\t\n",
            "20170721011709      \tGOKOVA KORFEZI (AKDENIZ)                          \t\t4.0   \t\tAftershock\t\t2.77\t\t16.19\t\t\n",
            "20170720235339      \tGOKOVA KORFEZI (AKDENIZ)                          \t\t4.0   \t\tAftershock\t\t1.38\t\t14.09\t\t\n",
            "20170720235015      \tGOKOVA KORFEZI (AKDENIZ)                          \t\t4.0   \t\tAftershock\t\t1.32\t\t4.01\t\t\n",
            "20170720230044      \tBODRUM (MUGLA) [South West  4.8 km]               \t\t4.0   \t\tAftershock\t\t0.49\t\t2.79\t\t\n",
            "20170721215101      \tGOKOVA KORFEZI (AKDENIZ)                          \t\t3.9   \t\tAftershock\t\t23.33\t\t19.16\t\t\n",
            "20170721142155      \tGOKOVA KORFEZI (AKDENIZ)                          \t\t3.9   \t\tAftershock\t\t15.85\t\t7.35\t\t\n",
            "20170721071126      \tGOKOVA KORFEZI (AKDENIZ)                          \t\t3.9   \t\tAftershock\t\t8.67\t\t6.54\t\t\n",
            "20170721055531      \tGOKOVA KORFEZI (AKDENIZ)                          \t\t3.9   \t\tAftershock\t\t7.41\t\t19.97\t\t\n",
            "20170721043923      \tGOKOVA KORFEZI (AKDENIZ)                          \t\t3.9   \t\tAftershock\t\t6.14\t\t17.19\t\t\n",
            "20170721035532      \tGOKOVA KORFEZI (AKDENIZ)                          \t\t3.9   \t\tAftershock\t\t5.41\t\t13.12\t\t\n",
            "20170721030935      \tGOKOVA KORFEZI (AKDENIZ)                          \t\t3.9   \t\tAftershock\t\t4.64\t\t11.78\t\t\n",
            "20170721003018      \tGOKOVA KORFEZI (AKDENIZ)                          \t\t3.9   \t\tAftershock\t\t1.99\t\t19.44\t\t\n",
            "20170721165524      \tAKYARLAR-BODRUM (MUGLA) [North East  4.0 km]      \t\t3.8   \t\tAftershock\t\t18.40\t\t6.66\t\t\n",
            "20170721080355      \tGOKOVA KORFEZI (AKDENIZ)                          \t\t3.8   \t\tAftershock\t\t9.55\t\t16.54\t\t\n",
            "20170721010157      \tGOKOVA KORFEZI (AKDENIZ)                          \t\t3.8   \t\tAftershock\t\t2.51\t\t2.52\t\t\n",
            "20170721001109      \tGOKOVA KORFEZI (AKDENIZ)                          \t\t3.7   \t\tAftershock\t\t1.67\t\t4.75\t\t\n",
            "20170721083400      \tGOKOVA KORFEZI (AKDENIZ)                          \t\t3.6   \t\tAftershock\t\t10.05\t\t12.95\t\t\n",
            "20170721054301      \tGOKOVA KORFEZI (AKDENIZ)                          \t\t3.6   \t\tAftershock\t\t7.20\t\t17.40\t\t\n",
            "20170721052653      \tGOKOVA KORFEZI (AKDENIZ)                          \t\t3.6   \t\tAftershock\t\t6.93\t\t14.02\t\t\n",
            "20170721020145      \tGOKOVA KORFEZI (AKDENIZ)                          \t\t3.6   \t\tAftershock\t\t3.51\t\t15.39\t\t\n",
            "20170721120524      \tGOKOVA KORFEZI (AKDENIZ)                          \t\t3.5   \t\tAftershock\t\t13.57\t\t12.80\t\t\n",
            "20170721085838      \tGOKOVA KORFEZI (AKDENIZ)                          \t\t3.5   \t\tAftershock\t\t10.46\t\t6.29\t\t\n",
            "20170721074717      \tGOKOVA KORFEZI (AKDENIZ)                          \t\t3.5   \t\tAftershock\t\t9.27\t\t11.11\t\t\n",
            "20170721035453      \tGOKOVA KORFEZI (AKDENIZ)                          \t\t3.5   \t\tAftershock\t\t5.40\t\t10.04\t\t\n",
            "20170721025426      \tGOKOVA KORFEZI (AKDENIZ)                          \t\t3.5   \t\tAftershock\t\t4.39\t\t19.11\t\t\n",
            "20170721004235      \tAKYARLAR-BODRUM (MUGLA) [South East  3.6 km]      \t\t3.5   \t\tAftershock\t\t2.19\t\t9.74\t\t\n",
            "20170721072816      \tGOKOVA KORFEZI (AKDENIZ)                          \t\t0.0   \t\tAftershock\t\t8.95\t\t16.24\t\t\n",
            "20170721064724      \tGOKOVA KORFEZI (AKDENIZ)                          \t\t0.0   \t\tAftershock\t\t8.27\t\t4.93\t\t\n",
            "20170721015446      \tGOKOVA KORFEZI (AKDENIZ)                          \t\t0.0   \t\tAftershock\t\t3.39\t\t4.26\t\t\n",
            "20170720232218      \tGOKOVA KORFEZI (AKDENIZ)                          \t\t0.0   \t\tAftershock\t\t0.85\t\t18.32\t\t\n",
            "20170720231416      \tGOKOVA KORFEZI (AKDENIZ)                          \t\t0.0   \t\tAftershock\t\t0.72\t\t18.23\t\t\n",
            "20170720230908      \tGOKOVA KORFEZI (AKDENIZ)                          \t\t0.0   \t\tAftershock\t\t0.63\t\t18.04\t\t\n",
            "20170720225435      \tGOKOVA KORFEZI (AKDENIZ)                          \t\t0.0   \t\tAftershock\t\t0.39\t\t16.67\t\t\n",
            "20170720225258      \tGOKOVA KORFEZI (AKDENIZ)                          \t\t0.0   \t\tAftershock\t\t0.36\t\t3.66\t\t\n",
            "20170720225044      \tGOKOVA KORFEZI (AKDENIZ)                          \t\t0.0   \t\tAftershock\t\t0.33\t\t14.19\t\t\n",
            "20170720224828      \tGOKOVA KORFEZI (AKDENIZ)                          \t\t0.0   \t\tAftershock\t\t0.29\t\t6.88\t\t\n",
            "20170720224419      \tGOKOVA KORFEZI (AKDENIZ)                          \t\t0.0   \t\tAftershock\t\t0.22\t\t4.25\t\t\n",
            "20170720224046      \tGOKOVA KORFEZI (AKDENIZ)                          \t\t0.0   \t\tAftershock\t\t0.16\t\t15.06\t\t\n",
            "20170720224004      \tGOKOVA KORFEZI (AKDENIZ)                          \t\t0.0   \t\tAftershock\t\t0.15\t\t16.46\t\t\n",
            "20170720223906      \tGOKOVA KORFEZI (AKDENIZ)                          \t\t0.0   \t\tAftershock\t\t0.13\t\t8.07\t\t\n",
            "20170720223803      \tGOKOVA KORFEZI (AKDENIZ)                          \t\t0.0   \t\tAftershock\t\t0.11\t\t2.49\t\t\n",
            "20170720223512      \tGOKOVA KORFEZI (AKDENIZ)                          \t\t0.0   \t\tAftershock\t\t0.07\t\t6.22\t\t\n",
            "20170720223440      \tGOKOVA KORFEZI (AKDENIZ)                          \t\t0.0   \t\tAftershock\t\t0.06\t\t1.00\t\t\n",
            "20170720223415      \tGOKOVA KORFEZI (AKDENIZ)                          \t\t0.0   \t\tAftershock\t\t0.05\t\t17.97\t\t\n",
            "================================================================================\n",
            "\n",
            "-----------------------------------------------------------------------------------------------------------------------\n",
            "\n",
            "MAIN EARTHQUAKE:\n",
            "Main EQ ID\t\tMain_Location\t\t\t\t\t\tMain Magnitude\n",
            "20030501002704      \tKURTULUS- (BINGOL) [South West  4.3 km]           \t\t6.4                 \t\n",
            "\n",
            "RELATED SHOCKS:\n",
            "Related EQ ID\t\tRelated Location\t\t\t\t\tRelated Magnitude\tType\t\t\tDistance km\tTime Diff hrs\n",
            "================================================================================\n",
            "\n",
            "-----------------------------------------------------------------------------------------------------------------------\n",
            "\n",
            "MAIN EARTHQUAKE:\n",
            "Main EQ ID\t\tMain_Location\t\t\t\t\t\tMain Magnitude\n",
            "20080715032633      \tAKDENIZ                                           \t\t6.3                 \t\n",
            "\n",
            "RELATED SHOCKS:\n",
            "Related EQ ID\t\tRelated Location\t\t\t\t\tRelated Magnitude\tType\t\t\tDistance km\tTime Diff hrs\n",
            "================================================================================\n",
            "\n",
            "-----------------------------------------------------------------------------------------------------------------------\n",
            "\n",
            "MAIN EARTHQUAKE:\n",
            "Main EQ ID\t\tMain_Location\t\t\t\t\t\tMain Magnitude\n",
            "20170612122837      \tEGE DENIZI                                        \t\t6.1                 \t\n",
            "\n",
            "RELATED SHOCKS:\n",
            "Related EQ ID\t\tRelated Location\t\t\t\t\tRelated Magnitude\tType\t\t\tDistance km\tTime Diff hrs\n",
            "20170612141946      \tEGE DENIZI                                        \t\t4.2   \t\tAftershock\t\t1.85\t\t1.22\t\t\n",
            "20170613031957      \tEGE DENIZI                                        \t\t4.1   \t\tAftershock\t\t14.86\t\t6.38\t\t\n",
            "20170612163014      \tEGE DENIZI                                        \t\t4.1   \t\tAftershock\t\t4.03\t\t1.83\t\t\n",
            "20170612182928      \tEGE DENIZI                                        \t\t4.0   \t\tAftershock\t\t6.01\t\t2.63\t\t\n",
            "20170612182541      \tMIDILLI ADASI (EGE DENIZI)                        \t\t4.0   \t\tAftershock\t\t5.95\t\t15.96\t\t\n",
            "20170612152502      \tEGE DENIZI                                        \t\t4.0   \t\tAftershock\t\t2.94\t\t7.56\t\t\n",
            "20170612195235      \tEGE DENIZI                                        \t\t3.8   \t\tAftershock\t\t7.40\t\t10.41\t\t\n",
            "20170612173430      \tEGE DENIZI                                        \t\t3.8   \t\tAftershock\t\t5.10\t\t3.83\t\t\n",
            "20170612161622      \tEGE DENIZI                                        \t\t3.8   \t\tAftershock\t\t3.80\t\t7.98\t\t\n",
            "20170612135700      \tEGE DENIZI                                        \t\t3.8   \t\tAftershock\t\t1.47\t\t11.90\t\t\n",
            "20170612124726      \tEGE DENIZI                                        \t\t3.8   \t\tAftershock\t\t0.31\t\t5.53\t\t\n",
            "20170613051626      \tEGE DENIZI                                        \t\t3.7   \t\tAftershock\t\t16.80\t\t13.62\t\t\n",
            "20170613030535      \tEGE DENIZI                                        \t\t3.7   \t\tAftershock\t\t14.62\t\t3.77\t\t\n",
            "20170613002352      \tEGE DENIZI                                        \t\t3.7   \t\tAftershock\t\t11.92\t\t1.94\t\t\n",
            "20170612194840      \tMIDILLI ADASI (EGE DENIZI)                        \t\t3.7   \t\tAftershock\t\t7.33\t\t17.34\t\t\n",
            "20170612232921      \tEGE DENIZI                                        \t\t3.6   \t\tAftershock\t\t11.01\t\t4.51\t\t\n",
            "20170612144707      \tEGE DENIZI                                        \t\t3.6   \t\tAftershock\t\t2.31\t\t3.56\t\t\n",
            "20170612144113      \tEGE DENIZI                                        \t\t3.6   \t\tAftershock\t\t2.21\t\t4.34\t\t\n",
            "20170613012921      \tEGE DENIZI                                        \t\t3.5   \t\tAftershock\t\t13.01\t\t6.82\t\t\n",
            "20170612135315      \tEGE DENIZI                                        \t\t3.5   \t\tAftershock\t\t1.41\t\t10.91\t\t\n",
            "20170612130707      \tMIDILLI ADASI (EGE DENIZI)                        \t\t3.5   \t\tAftershock\t\t0.64\t\t19.16\t\t\n",
            "20170612124515      \tEGE DENIZI                                        \t\t3.5   \t\tAftershock\t\t0.28\t\t5.34\t\t\n",
            "20170612223508      \tMIDILLI ADASI (EGE DENIZI)                        \t\t3.4   \t\tAftershock\t\t10.11\t\t14.00\t\t\n",
            "20170612134224      \tEGE DENIZI                                        \t\t0.0   \t\tAftershock\t\t1.23\t\t2.16\t\t\n",
            "20170612131013      \tEGE DENIZI                                        \t\t0.0   \t\tAftershock\t\t0.69\t\t8.15\t\t\n",
            "20170612123533      \tEGE DENIZI                                        \t\t0.0   \t\tAftershock\t\t0.12\t\t2.56\t\t\n",
            "20170612123251      \tSALMAN ACIKLARI-IZMIR (EGE DENIZI)                \t\t0.0   \t\tAftershock\t\t0.07\t\t16.74\t\t\n",
            "================================================================================\n",
            "\n",
            "-----------------------------------------------------------------------------------------------------------------------\n",
            "\n",
            "MAIN EARTHQUAKE:\n",
            "Main EQ ID\t\tMain_Location\t\t\t\t\t\tMain Magnitude\n",
            "20110401132908      \tAKDENIZ                                           \t\t6.1                 \t\n",
            "\n",
            "RELATED SHOCKS:\n",
            "Related EQ ID\t\tRelated Location\t\t\t\t\tRelated Magnitude\tType\t\t\tDistance km\tTime Diff hrs\n",
            "================================================================================\n",
            "\n",
            "-----------------------------------------------------------------------------------------------------------------------\n",
            "\n",
            "MAIN EARTHQUAKE:\n",
            "Main EQ ID\t\tMain_Location\t\t\t\t\t\tMain Magnitude\n",
            "20100308023231      \tISAAGAMEZRASI-KOVANCILAR (ELAZIG) [South West  0.6 km]\t\t6.1                 \t\n",
            "\n",
            "RELATED SHOCKS:\n",
            "Related EQ ID\t\tRelated Location\t\t\t\t\tRelated Magnitude\tType\t\t\tDistance km\tTime Diff hrs\n",
            "20100308074738      \tASAGIMIRAHMET-KOVANCILAR (ELAZIG) [South East  0.6 km]\t\t5.6   \t\tAftershock\t\t5.25\t\t8.28\t\t\n",
            "================================================================================\n",
            "\n",
            "-----------------------------------------------------------------------------------------------------------------------\n",
            "\n",
            "MAIN EARTHQUAKE:\n",
            "Main EQ ID\t\tMain_Location\t\t\t\t\t\tMain Magnitude\n",
            "20030127052628      \tSAGLAMTAS-PULUMUR (TUNCELI) [North West  4.3 km]  \t\t6.1                 \t\n",
            "\n",
            "RELATED SHOCKS:\n",
            "Related EQ ID\t\tRelated Location\t\t\t\t\tRelated Magnitude\tType\t\t\tDistance km\tTime Diff hrs\n",
            "================================================================================\n",
            "\n"
          ]
        }
      ]
    },
    {
      "cell_type": "code",
      "source": [
        "################################################################################################################################################################################\n",
        "################################################################################################################################################################################\n",
        "################################################################################################################################################################################\n",
        "#################################################################################### EXTRA SECOND WAY SOLUTION #################################################################\n",
        "################################################################################################################################################################################\n",
        "################################################################################################################################################################################\n",
        "################################################################################################################################################################################"
      ],
      "metadata": {
        "id": "_nx6smLWaI_O"
      },
      "execution_count": null,
      "outputs": []
    },
    {
      "cell_type": "code",
      "source": [
        "# I also solved the question using spark dataframes"
      ],
      "metadata": {
        "id": "4VCzbtKaQB9u"
      },
      "execution_count": null,
      "outputs": []
    },
    {
      "cell_type": "code",
      "source": [
        "# Import functions for DataFrame column operations, timestamp conversion, and absolute value | col → Refer to a column in expressions | to_timestamp, unix_timestamp → Convert string to timestamp format | abs → Get absolute value (for differences)\n",
        "from pyspark.sql.functions import col, to_timestamp, unix_timestamp, abs\n",
        "\n",
        "# Import DoubleType to define or cast columns to double (float) type | Needed for type conversions (for latitude/longitude as float)\n",
        "from pyspark.sql.types import DoubleType\n",
        "\n",
        "# Import standard math functions from Python for custom calculations (haversine) | Required to convert degrees to radians and perform trigonometry\n",
        "from math import radians, cos, sin, asin, sqrt\n",
        "\n",
        "# Import udf to define user-defined functions in Spark\n",
        "from pyspark.sql.functions import udf\n",
        "\n",
        "# Import 'when' function to write conditional expressions (if-else in SQL) I used it to create new columns based on conditions\n",
        "from pyspark.sql.functions import when\n",
        "\n",
        "# Import concat_ws to concatenate columns with a separator\n",
        "from pyspark.sql.functions import concat_ws\n",
        "\n",
        "# Import round function to round numerical columns (distances)\n",
        "from pyspark.sql.functions import round\n"
      ],
      "metadata": {
        "id": "vnAFUrPfLzO7"
      },
      "execution_count": null,
      "outputs": []
    },
    {
      "cell_type": "code",
      "source": [
        "# Load the earthquake data file into a DataFrame using SparkSession\n",
        "df = (\n",
        "    spark.read\n",
        "    .option(\"inferSchema\", \"false\")           # Prevents Spark from automatically inferring data types; all columns will be read as strings\n",
        "    .option(\"header\", True)                   # The file contains a header row; Spark will use it as column names\n",
        "    .option(\"delimiter\", \"\\t\")                # The columns are separated by tab characters (\\t), not commas\n",
        "    .option(\"encoding\", \"ISO-8859-9\")         # Use Turkish encoding to correctly read special characters like ç, ğ, ı, etc.\n",
        "    .csv(\"/content/drive/My Drive/datasets/EartquakeData-07032025.txt\")  # File path\n",
        ")\n",
        "\n",
        "# Display the first 20 rows of the DataFrame (default)\n",
        "df.show()\n",
        "\n",
        "# Print the structure and data types of all columns\n",
        "df.printSchema()\n",
        "\n",
        "# Count the total number of rows in the dataset\n",
        "df.count()\n"
      ],
      "metadata": {
        "colab": {
          "base_uri": "https://localhost:8080/"
        },
        "id": "jL5bySL3zWcc",
        "outputId": "6db91655-bd4b-4751-fcee-a90da6d53aa1"
      },
      "execution_count": null,
      "outputs": [
        {
          "output_type": "stream",
          "name": "stdout",
          "text": [
            "+------+--------------+-----------+-----------+-------+-------+-------+---+---+---+---+---+---+---+--------------------+\n",
            "|No    |   Deprem Kodu|Olus tarihi|Olus zamani|  Enlem| Boylam|Der(km)| xM| MD| ML| Mw| Ms| Mb|Tip|                 Yer|\n",
            "+------+--------------+-----------+-----------+-------+-------+-------+---+---+---+---+---+---+---+--------------------+\n",
            "|000001|20241129191312| 2024.11.29|19:13:12.53|35.8453|31.6895|  009.8|4.9|0.0|4.9|4.6|0.0|0.0| Ke|             AKDENIZ|\n",
            "|000002|20241129122652| 2024.11.29|12:26:52.13|38.2525|42.3815|  006.5|3.8|0.0|3.7|3.8|0.0|0.0| Ke|ICLIKAVAL-HIZAN (...|\n",
            "|000003|20241128071159| 2024.11.28|07:11:59.85|38.0462|36.6528|  005.4|4.0|0.0|4.0|3.8|0.0|0.0| Ke|GUCUKSU-GOKSUN (K...|\n",
            "|000004|20241127025643| 2024.11.27|02:56:43.09|38.2540|42.3613|  005.3|4.3|0.0|4.2|4.3|0.0|0.0| Ke|ICLIKAVAL-HIZAN (...|\n",
            "|000005|20241127025006| 2024.11.27|02:50:06.71|38.2340|42.3765|  003.8|4.3|0.0|4.1|4.3|0.0|0.0| Ke|ICLIKAVAL-HIZAN (...|\n",
            "|000006|20241125172846| 2024.11.25|17:28:46.55|35.4272|27.0622|  011.4|3.8|0.0|3.7|3.8|0.0|0.0| Ke|             AKDENIZ|\n",
            "|000007|20241125172003| 2024.11.25|17:20:03.84|38.1647|37.8323|  006.6|4.6|0.0|4.6|4.4|0.0|0.0| Ke|POLAT-DOGANSEHIR ...|\n",
            "|000008|20241124014757| 2024.11.24|01:47:57.68|40.0865|42.9490|  005.0|4.0|0.0|4.0|4.0|0.0|0.0| Ke|KULOGLU-KAGIZMAN ...|\n",
            "|000009|20241122092950| 2024.11.22|09:29:50.00|36.5118|26.7643|  109.5|4.1|0.0|4.1|3.8|0.0|0.0| Ke|             AKDENIZ|\n",
            "|000010|20241121194215| 2024.11.21|19:42:15.20|38.3467|38.8023|  005.0|3.6|0.0|3.6|3.6|0.0|0.0| Ke|CANAKCI-KALE (MAL...|\n",
            "|000011|20241119181910| 2024.11.19|18:19:10.55|36.5410|28.8147|  008.6|3.8|0.0|3.8|3.7|0.0|0.0| Ke|             AKDENIZ|\n",
            "|000012|20241119074615| 2024.11.19|07:46:15.22|40.2903|27.0020|  013.4|4.0|0.0|4.0|3.7|0.0|0.0| Ke|GURGENDERE-BIGA (...|\n",
            "|000013|20241115165612| 2024.11.15|16:56:12.95|38.0040|37.5778|  004.1|3.8|0.0|3.8|3.8|0.0|0.0| Ke|TATLAR-NURHAK (KA...|\n",
            "|000014|20241115134251| 2024.11.15|13:42:51.00|36.3652|26.5328|  020.4|3.5|0.0|3.5|3.4|0.0|0.0| Ke|             AKDENIZ|\n",
            "|000015|20241115090201| 2024.11.15|09:02:01.62|41.0012|40.9008|  013.2|4.7|0.0|4.7|4.5|0.0|0.0| Ke|HILAL-HEMSIN (RIZ...|\n",
            "|000016|20241115074618| 2024.11.15|07:46:18.58|37.9915|37.6162|  005.0|5.1|0.0|5.1|5.0|0.0|0.0| Ke|GOVDELI-DOGANSEHI...|\n",
            "|000017|20241115032253| 2024.11.15|03:22:53.56|39.6925|33.3360|  005.3|3.5|0.0|3.5|3.5|0.0|0.0| Ke|KUCUKSARIKAYALAR-...|\n",
            "|000018|20241113122157| 2024.11.13|12:21:57.94|39.9933|41.3168|  005.0|3.5|0.0|3.3|3.5|0.0|0.0| Ke|YAKUTIYE (ERZURUM...|\n",
            "|000019|20241111083331| 2024.11.11|08:33:31.95|40.7353|34.1277|  008.7|3.5|0.0|3.5|3.4|0.0|0.0| Ke|EMIRSAH-BAYAT (CO...|\n",
            "|000020|20241111082754| 2024.11.11|08:27:54.24|40.7363|34.1313|  009.5|3.7|0.0|3.5|3.7|0.0|0.0| Ke|EMIRSAH-BAYAT (CO...|\n",
            "+------+--------------+-----------+-----------+-------+-------+-------+---+---+---+---+---+---+---+--------------------+\n",
            "only showing top 20 rows\n",
            "\n",
            "root\n",
            " |-- No    : string (nullable = true)\n",
            " |-- Deprem Kodu: string (nullable = true)\n",
            " |-- Olus tarihi: string (nullable = true)\n",
            " |-- Olus zamani: string (nullable = true)\n",
            " |-- Enlem: string (nullable = true)\n",
            " |-- Boylam: string (nullable = true)\n",
            " |-- Der(km): string (nullable = true)\n",
            " |-- xM: string (nullable = true)\n",
            " |-- MD: string (nullable = true)\n",
            " |-- ML: string (nullable = true)\n",
            " |-- Mw: string (nullable = true)\n",
            " |-- Ms: string (nullable = true)\n",
            " |-- Mb: string (nullable = true)\n",
            " |-- Tip: string (nullable = true)\n",
            " |-- Yer: string (nullable = true)\n",
            "\n"
          ]
        },
        {
          "output_type": "execute_result",
          "data": {
            "text/plain": [
              "20766"
            ]
          },
          "metadata": {},
          "execution_count": 122
        }
      ]
    },
    {
      "cell_type": "code",
      "source": [
        "# Remove leading and trailing spaces from column names (if any),\n",
        "# especially to avoid issues when referencing columns with unexpected whitespace\n",
        "df = df.toDF(*[column.strip() for column in df.columns])  # In this case, it removed trailing space in \"No    \" column\n",
        "\n",
        "df.show()\n",
        "df.printSchema()\n",
        "df.count()\n"
      ],
      "metadata": {
        "colab": {
          "base_uri": "https://localhost:8080/"
        },
        "id": "j4kqSpHl1NaB",
        "outputId": "900f4e30-8f6a-49d3-c635-8ec6ed7afee0"
      },
      "execution_count": null,
      "outputs": [
        {
          "output_type": "stream",
          "name": "stdout",
          "text": [
            "+------+--------------+-----------+-----------+-------+-------+-------+---+---+---+---+---+---+---+--------------------+\n",
            "|    No|   Deprem Kodu|Olus tarihi|Olus zamani|  Enlem| Boylam|Der(km)| xM| MD| ML| Mw| Ms| Mb|Tip|                 Yer|\n",
            "+------+--------------+-----------+-----------+-------+-------+-------+---+---+---+---+---+---+---+--------------------+\n",
            "|000001|20241129191312| 2024.11.29|19:13:12.53|35.8453|31.6895|  009.8|4.9|0.0|4.9|4.6|0.0|0.0| Ke|             AKDENIZ|\n",
            "|000002|20241129122652| 2024.11.29|12:26:52.13|38.2525|42.3815|  006.5|3.8|0.0|3.7|3.8|0.0|0.0| Ke|ICLIKAVAL-HIZAN (...|\n",
            "|000003|20241128071159| 2024.11.28|07:11:59.85|38.0462|36.6528|  005.4|4.0|0.0|4.0|3.8|0.0|0.0| Ke|GUCUKSU-GOKSUN (K...|\n",
            "|000004|20241127025643| 2024.11.27|02:56:43.09|38.2540|42.3613|  005.3|4.3|0.0|4.2|4.3|0.0|0.0| Ke|ICLIKAVAL-HIZAN (...|\n",
            "|000005|20241127025006| 2024.11.27|02:50:06.71|38.2340|42.3765|  003.8|4.3|0.0|4.1|4.3|0.0|0.0| Ke|ICLIKAVAL-HIZAN (...|\n",
            "|000006|20241125172846| 2024.11.25|17:28:46.55|35.4272|27.0622|  011.4|3.8|0.0|3.7|3.8|0.0|0.0| Ke|             AKDENIZ|\n",
            "|000007|20241125172003| 2024.11.25|17:20:03.84|38.1647|37.8323|  006.6|4.6|0.0|4.6|4.4|0.0|0.0| Ke|POLAT-DOGANSEHIR ...|\n",
            "|000008|20241124014757| 2024.11.24|01:47:57.68|40.0865|42.9490|  005.0|4.0|0.0|4.0|4.0|0.0|0.0| Ke|KULOGLU-KAGIZMAN ...|\n",
            "|000009|20241122092950| 2024.11.22|09:29:50.00|36.5118|26.7643|  109.5|4.1|0.0|4.1|3.8|0.0|0.0| Ke|             AKDENIZ|\n",
            "|000010|20241121194215| 2024.11.21|19:42:15.20|38.3467|38.8023|  005.0|3.6|0.0|3.6|3.6|0.0|0.0| Ke|CANAKCI-KALE (MAL...|\n",
            "|000011|20241119181910| 2024.11.19|18:19:10.55|36.5410|28.8147|  008.6|3.8|0.0|3.8|3.7|0.0|0.0| Ke|             AKDENIZ|\n",
            "|000012|20241119074615| 2024.11.19|07:46:15.22|40.2903|27.0020|  013.4|4.0|0.0|4.0|3.7|0.0|0.0| Ke|GURGENDERE-BIGA (...|\n",
            "|000013|20241115165612| 2024.11.15|16:56:12.95|38.0040|37.5778|  004.1|3.8|0.0|3.8|3.8|0.0|0.0| Ke|TATLAR-NURHAK (KA...|\n",
            "|000014|20241115134251| 2024.11.15|13:42:51.00|36.3652|26.5328|  020.4|3.5|0.0|3.5|3.4|0.0|0.0| Ke|             AKDENIZ|\n",
            "|000015|20241115090201| 2024.11.15|09:02:01.62|41.0012|40.9008|  013.2|4.7|0.0|4.7|4.5|0.0|0.0| Ke|HILAL-HEMSIN (RIZ...|\n",
            "|000016|20241115074618| 2024.11.15|07:46:18.58|37.9915|37.6162|  005.0|5.1|0.0|5.1|5.0|0.0|0.0| Ke|GOVDELI-DOGANSEHI...|\n",
            "|000017|20241115032253| 2024.11.15|03:22:53.56|39.6925|33.3360|  005.3|3.5|0.0|3.5|3.5|0.0|0.0| Ke|KUCUKSARIKAYALAR-...|\n",
            "|000018|20241113122157| 2024.11.13|12:21:57.94|39.9933|41.3168|  005.0|3.5|0.0|3.3|3.5|0.0|0.0| Ke|YAKUTIYE (ERZURUM...|\n",
            "|000019|20241111083331| 2024.11.11|08:33:31.95|40.7353|34.1277|  008.7|3.5|0.0|3.5|3.4|0.0|0.0| Ke|EMIRSAH-BAYAT (CO...|\n",
            "|000020|20241111082754| 2024.11.11|08:27:54.24|40.7363|34.1313|  009.5|3.7|0.0|3.5|3.7|0.0|0.0| Ke|EMIRSAH-BAYAT (CO...|\n",
            "+------+--------------+-----------+-----------+-------+-------+-------+---+---+---+---+---+---+---+--------------------+\n",
            "only showing top 20 rows\n",
            "\n",
            "root\n",
            " |-- No: string (nullable = true)\n",
            " |-- Deprem Kodu: string (nullable = true)\n",
            " |-- Olus tarihi: string (nullable = true)\n",
            " |-- Olus zamani: string (nullable = true)\n",
            " |-- Enlem: string (nullable = true)\n",
            " |-- Boylam: string (nullable = true)\n",
            " |-- Der(km): string (nullable = true)\n",
            " |-- xM: string (nullable = true)\n",
            " |-- MD: string (nullable = true)\n",
            " |-- ML: string (nullable = true)\n",
            " |-- Mw: string (nullable = true)\n",
            " |-- Ms: string (nullable = true)\n",
            " |-- Mb: string (nullable = true)\n",
            " |-- Tip: string (nullable = true)\n",
            " |-- Yer: string (nullable = true)\n",
            "\n"
          ]
        },
        {
          "output_type": "execute_result",
          "data": {
            "text/plain": [
              "20766"
            ]
          },
          "metadata": {},
          "execution_count": 124
        }
      ]
    },
    {
      "cell_type": "code",
      "source": [
        "df_cleaned = df.filter(df[\"Mw\"].isNotNull() & (df[\"Mw\"] != \"\"))\n",
        "df_cleaned.show()\n",
        "df_cleaned.count()"
      ],
      "metadata": {
        "colab": {
          "base_uri": "https://localhost:8080/"
        },
        "id": "qs7Eyy5pgSjA",
        "outputId": "ec981f78-eb26-41ef-dc93-849cbac08689"
      },
      "execution_count": null,
      "outputs": [
        {
          "output_type": "stream",
          "name": "stdout",
          "text": [
            "+------+--------------+-----------+-----------+-------+-------+-------+---+---+---+---+---+---+---+--------------------+\n",
            "|    No|   Deprem Kodu|Olus tarihi|Olus zamani|  Enlem| Boylam|Der(km)| xM| MD| ML| Mw| Ms| Mb|Tip|                 Yer|\n",
            "+------+--------------+-----------+-----------+-------+-------+-------+---+---+---+---+---+---+---+--------------------+\n",
            "|000001|20241129191312| 2024.11.29|19:13:12.53|35.8453|31.6895|  009.8|4.9|0.0|4.9|4.6|0.0|0.0| Ke|             AKDENIZ|\n",
            "|000002|20241129122652| 2024.11.29|12:26:52.13|38.2525|42.3815|  006.5|3.8|0.0|3.7|3.8|0.0|0.0| Ke|ICLIKAVAL-HIZAN (...|\n",
            "|000003|20241128071159| 2024.11.28|07:11:59.85|38.0462|36.6528|  005.4|4.0|0.0|4.0|3.8|0.0|0.0| Ke|GUCUKSU-GOKSUN (K...|\n",
            "|000004|20241127025643| 2024.11.27|02:56:43.09|38.2540|42.3613|  005.3|4.3|0.0|4.2|4.3|0.0|0.0| Ke|ICLIKAVAL-HIZAN (...|\n",
            "|000005|20241127025006| 2024.11.27|02:50:06.71|38.2340|42.3765|  003.8|4.3|0.0|4.1|4.3|0.0|0.0| Ke|ICLIKAVAL-HIZAN (...|\n",
            "|000006|20241125172846| 2024.11.25|17:28:46.55|35.4272|27.0622|  011.4|3.8|0.0|3.7|3.8|0.0|0.0| Ke|             AKDENIZ|\n",
            "|000007|20241125172003| 2024.11.25|17:20:03.84|38.1647|37.8323|  006.6|4.6|0.0|4.6|4.4|0.0|0.0| Ke|POLAT-DOGANSEHIR ...|\n",
            "|000008|20241124014757| 2024.11.24|01:47:57.68|40.0865|42.9490|  005.0|4.0|0.0|4.0|4.0|0.0|0.0| Ke|KULOGLU-KAGIZMAN ...|\n",
            "|000009|20241122092950| 2024.11.22|09:29:50.00|36.5118|26.7643|  109.5|4.1|0.0|4.1|3.8|0.0|0.0| Ke|             AKDENIZ|\n",
            "|000010|20241121194215| 2024.11.21|19:42:15.20|38.3467|38.8023|  005.0|3.6|0.0|3.6|3.6|0.0|0.0| Ke|CANAKCI-KALE (MAL...|\n",
            "|000011|20241119181910| 2024.11.19|18:19:10.55|36.5410|28.8147|  008.6|3.8|0.0|3.8|3.7|0.0|0.0| Ke|             AKDENIZ|\n",
            "|000012|20241119074615| 2024.11.19|07:46:15.22|40.2903|27.0020|  013.4|4.0|0.0|4.0|3.7|0.0|0.0| Ke|GURGENDERE-BIGA (...|\n",
            "|000013|20241115165612| 2024.11.15|16:56:12.95|38.0040|37.5778|  004.1|3.8|0.0|3.8|3.8|0.0|0.0| Ke|TATLAR-NURHAK (KA...|\n",
            "|000014|20241115134251| 2024.11.15|13:42:51.00|36.3652|26.5328|  020.4|3.5|0.0|3.5|3.4|0.0|0.0| Ke|             AKDENIZ|\n",
            "|000015|20241115090201| 2024.11.15|09:02:01.62|41.0012|40.9008|  013.2|4.7|0.0|4.7|4.5|0.0|0.0| Ke|HILAL-HEMSIN (RIZ...|\n",
            "|000016|20241115074618| 2024.11.15|07:46:18.58|37.9915|37.6162|  005.0|5.1|0.0|5.1|5.0|0.0|0.0| Ke|GOVDELI-DOGANSEHI...|\n",
            "|000017|20241115032253| 2024.11.15|03:22:53.56|39.6925|33.3360|  005.3|3.5|0.0|3.5|3.5|0.0|0.0| Ke|KUCUKSARIKAYALAR-...|\n",
            "|000018|20241113122157| 2024.11.13|12:21:57.94|39.9933|41.3168|  005.0|3.5|0.0|3.3|3.5|0.0|0.0| Ke|YAKUTIYE (ERZURUM...|\n",
            "|000019|20241111083331| 2024.11.11|08:33:31.95|40.7353|34.1277|  008.7|3.5|0.0|3.5|3.4|0.0|0.0| Ke|EMIRSAH-BAYAT (CO...|\n",
            "|000020|20241111082754| 2024.11.11|08:27:54.24|40.7363|34.1313|  009.5|3.7|0.0|3.5|3.7|0.0|0.0| Ke|EMIRSAH-BAYAT (CO...|\n",
            "+------+--------------+-----------+-----------+-------+-------+-------+---+---+---+---+---+---+---+--------------------+\n",
            "only showing top 20 rows\n",
            "\n"
          ]
        },
        {
          "output_type": "execute_result",
          "data": {
            "text/plain": [
              "7769"
            ]
          },
          "metadata": {},
          "execution_count": 125
        }
      ]
    },
    {
      "cell_type": "code",
      "source": [
        "df_cleaned = df_cleaned.withColumn(\"datetime\", to_timestamp(concat_ws(\" \", col(\"Olus tarihi\"), col(\"Olus zamani\")), \"yyyy.MM.dd HH:mm:ss.SS\"))# Create a new column \"datetime\" by combining separate date and time columns\n",
        "df_cleaned = df_cleaned.withColumn(\n",
        "    \"datetime\",  # Name of the new column to be added\n",
        "    to_timestamp(  # Convert the resulting string into a proper Spark TimestampType\n",
        "        concat_ws(\" \", col(\"Olus tarihi\"), col(\"Olus zamani\")),  # Join date and time columns with a space in between\n",
        "        \"yyyy.MM.dd HH:mm:ss.SS\"  # Specify the expected datetime format for correct parsing\n",
        "    )\n",
        ")\n",
        "df_cleaned.show()\n",
        "df_cleaned.printSchema()"
      ],
      "metadata": {
        "colab": {
          "base_uri": "https://localhost:8080/"
        },
        "id": "w3VnVDNX55xt",
        "outputId": "f2dc8d66-e81d-4c29-e371-1ecb44e50bfa"
      },
      "execution_count": null,
      "outputs": [
        {
          "output_type": "stream",
          "name": "stdout",
          "text": [
            "+------+--------------+-----------+-----------+-------+-------+-------+---+---+---+---+---+---+---+--------------------+--------------------+\n",
            "|    No|   Deprem Kodu|Olus tarihi|Olus zamani|  Enlem| Boylam|Der(km)| xM| MD| ML| Mw| Ms| Mb|Tip|                 Yer|            datetime|\n",
            "+------+--------------+-----------+-----------+-------+-------+-------+---+---+---+---+---+---+---+--------------------+--------------------+\n",
            "|000001|20241129191312| 2024.11.29|19:13:12.53|35.8453|31.6895|  009.8|4.9|0.0|4.9|4.6|0.0|0.0| Ke|             AKDENIZ|2024-11-29 19:13:...|\n",
            "|000002|20241129122652| 2024.11.29|12:26:52.13|38.2525|42.3815|  006.5|3.8|0.0|3.7|3.8|0.0|0.0| Ke|ICLIKAVAL-HIZAN (...|2024-11-29 12:26:...|\n",
            "|000003|20241128071159| 2024.11.28|07:11:59.85|38.0462|36.6528|  005.4|4.0|0.0|4.0|3.8|0.0|0.0| Ke|GUCUKSU-GOKSUN (K...|2024-11-28 07:11:...|\n",
            "|000004|20241127025643| 2024.11.27|02:56:43.09|38.2540|42.3613|  005.3|4.3|0.0|4.2|4.3|0.0|0.0| Ke|ICLIKAVAL-HIZAN (...|2024-11-27 02:56:...|\n",
            "|000005|20241127025006| 2024.11.27|02:50:06.71|38.2340|42.3765|  003.8|4.3|0.0|4.1|4.3|0.0|0.0| Ke|ICLIKAVAL-HIZAN (...|2024-11-27 02:50:...|\n",
            "|000006|20241125172846| 2024.11.25|17:28:46.55|35.4272|27.0622|  011.4|3.8|0.0|3.7|3.8|0.0|0.0| Ke|             AKDENIZ|2024-11-25 17:28:...|\n",
            "|000007|20241125172003| 2024.11.25|17:20:03.84|38.1647|37.8323|  006.6|4.6|0.0|4.6|4.4|0.0|0.0| Ke|POLAT-DOGANSEHIR ...|2024-11-25 17:20:...|\n",
            "|000008|20241124014757| 2024.11.24|01:47:57.68|40.0865|42.9490|  005.0|4.0|0.0|4.0|4.0|0.0|0.0| Ke|KULOGLU-KAGIZMAN ...|2024-11-24 01:47:...|\n",
            "|000009|20241122092950| 2024.11.22|09:29:50.00|36.5118|26.7643|  109.5|4.1|0.0|4.1|3.8|0.0|0.0| Ke|             AKDENIZ| 2024-11-22 09:29:50|\n",
            "|000010|20241121194215| 2024.11.21|19:42:15.20|38.3467|38.8023|  005.0|3.6|0.0|3.6|3.6|0.0|0.0| Ke|CANAKCI-KALE (MAL...|2024-11-21 19:42:...|\n",
            "|000011|20241119181910| 2024.11.19|18:19:10.55|36.5410|28.8147|  008.6|3.8|0.0|3.8|3.7|0.0|0.0| Ke|             AKDENIZ|2024-11-19 18:19:...|\n",
            "|000012|20241119074615| 2024.11.19|07:46:15.22|40.2903|27.0020|  013.4|4.0|0.0|4.0|3.7|0.0|0.0| Ke|GURGENDERE-BIGA (...|2024-11-19 07:46:...|\n",
            "|000013|20241115165612| 2024.11.15|16:56:12.95|38.0040|37.5778|  004.1|3.8|0.0|3.8|3.8|0.0|0.0| Ke|TATLAR-NURHAK (KA...|2024-11-15 16:56:...|\n",
            "|000014|20241115134251| 2024.11.15|13:42:51.00|36.3652|26.5328|  020.4|3.5|0.0|3.5|3.4|0.0|0.0| Ke|             AKDENIZ| 2024-11-15 13:42:51|\n",
            "|000015|20241115090201| 2024.11.15|09:02:01.62|41.0012|40.9008|  013.2|4.7|0.0|4.7|4.5|0.0|0.0| Ke|HILAL-HEMSIN (RIZ...|2024-11-15 09:02:...|\n",
            "|000016|20241115074618| 2024.11.15|07:46:18.58|37.9915|37.6162|  005.0|5.1|0.0|5.1|5.0|0.0|0.0| Ke|GOVDELI-DOGANSEHI...|2024-11-15 07:46:...|\n",
            "|000017|20241115032253| 2024.11.15|03:22:53.56|39.6925|33.3360|  005.3|3.5|0.0|3.5|3.5|0.0|0.0| Ke|KUCUKSARIKAYALAR-...|2024-11-15 03:22:...|\n",
            "|000018|20241113122157| 2024.11.13|12:21:57.94|39.9933|41.3168|  005.0|3.5|0.0|3.3|3.5|0.0|0.0| Ke|YAKUTIYE (ERZURUM...|2024-11-13 12:21:...|\n",
            "|000019|20241111083331| 2024.11.11|08:33:31.95|40.7353|34.1277|  008.7|3.5|0.0|3.5|3.4|0.0|0.0| Ke|EMIRSAH-BAYAT (CO...|2024-11-11 08:33:...|\n",
            "|000020|20241111082754| 2024.11.11|08:27:54.24|40.7363|34.1313|  009.5|3.7|0.0|3.5|3.7|0.0|0.0| Ke|EMIRSAH-BAYAT (CO...|2024-11-11 08:27:...|\n",
            "+------+--------------+-----------+-----------+-------+-------+-------+---+---+---+---+---+---+---+--------------------+--------------------+\n",
            "only showing top 20 rows\n",
            "\n",
            "root\n",
            " |-- No: string (nullable = true)\n",
            " |-- Deprem Kodu: string (nullable = true)\n",
            " |-- Olus tarihi: string (nullable = true)\n",
            " |-- Olus zamani: string (nullable = true)\n",
            " |-- Enlem: string (nullable = true)\n",
            " |-- Boylam: string (nullable = true)\n",
            " |-- Der(km): string (nullable = true)\n",
            " |-- xM: string (nullable = true)\n",
            " |-- MD: string (nullable = true)\n",
            " |-- ML: string (nullable = true)\n",
            " |-- Mw: string (nullable = true)\n",
            " |-- Ms: string (nullable = true)\n",
            " |-- Mb: string (nullable = true)\n",
            " |-- Tip: string (nullable = true)\n",
            " |-- Yer: string (nullable = true)\n",
            " |-- datetime: timestamp (nullable = true)\n",
            "\n"
          ]
        }
      ]
    },
    {
      "cell_type": "code",
      "source": [
        "# Create a new column \"year\" by extracting the first 4 characters from \"Olus tarihi\" (date string)\n",
        "# Convert the extracted year to integer for future numeric operations like filtering or grouping\n",
        "df = df_cleaned.withColumn(\"year\", col(\"Olus tarihi\").substr(1, 4).cast(\"int\"))\n",
        "df.show()\n",
        "df.printSchema()\n",
        "df.count()"
      ],
      "metadata": {
        "colab": {
          "base_uri": "https://localhost:8080/"
        },
        "id": "FX7LjPe09iuo",
        "outputId": "1992a0aa-b30d-4f81-9e77-b17a87f0969b"
      },
      "execution_count": null,
      "outputs": [
        {
          "output_type": "stream",
          "name": "stdout",
          "text": [
            "+------+--------------+-----------+-----------+-------+-------+-------+---+---+---+---+---+---+---+--------------------+--------------------+----+\n",
            "|    No|   Deprem Kodu|Olus tarihi|Olus zamani|  Enlem| Boylam|Der(km)| xM| MD| ML| Mw| Ms| Mb|Tip|                 Yer|            datetime|year|\n",
            "+------+--------------+-----------+-----------+-------+-------+-------+---+---+---+---+---+---+---+--------------------+--------------------+----+\n",
            "|000001|20241129191312| 2024.11.29|19:13:12.53|35.8453|31.6895|  009.8|4.9|0.0|4.9|4.6|0.0|0.0| Ke|             AKDENIZ|2024-11-29 19:13:...|2024|\n",
            "|000002|20241129122652| 2024.11.29|12:26:52.13|38.2525|42.3815|  006.5|3.8|0.0|3.7|3.8|0.0|0.0| Ke|ICLIKAVAL-HIZAN (...|2024-11-29 12:26:...|2024|\n",
            "|000003|20241128071159| 2024.11.28|07:11:59.85|38.0462|36.6528|  005.4|4.0|0.0|4.0|3.8|0.0|0.0| Ke|GUCUKSU-GOKSUN (K...|2024-11-28 07:11:...|2024|\n",
            "|000004|20241127025643| 2024.11.27|02:56:43.09|38.2540|42.3613|  005.3|4.3|0.0|4.2|4.3|0.0|0.0| Ke|ICLIKAVAL-HIZAN (...|2024-11-27 02:56:...|2024|\n",
            "|000005|20241127025006| 2024.11.27|02:50:06.71|38.2340|42.3765|  003.8|4.3|0.0|4.1|4.3|0.0|0.0| Ke|ICLIKAVAL-HIZAN (...|2024-11-27 02:50:...|2024|\n",
            "|000006|20241125172846| 2024.11.25|17:28:46.55|35.4272|27.0622|  011.4|3.8|0.0|3.7|3.8|0.0|0.0| Ke|             AKDENIZ|2024-11-25 17:28:...|2024|\n",
            "|000007|20241125172003| 2024.11.25|17:20:03.84|38.1647|37.8323|  006.6|4.6|0.0|4.6|4.4|0.0|0.0| Ke|POLAT-DOGANSEHIR ...|2024-11-25 17:20:...|2024|\n",
            "|000008|20241124014757| 2024.11.24|01:47:57.68|40.0865|42.9490|  005.0|4.0|0.0|4.0|4.0|0.0|0.0| Ke|KULOGLU-KAGIZMAN ...|2024-11-24 01:47:...|2024|\n",
            "|000009|20241122092950| 2024.11.22|09:29:50.00|36.5118|26.7643|  109.5|4.1|0.0|4.1|3.8|0.0|0.0| Ke|             AKDENIZ| 2024-11-22 09:29:50|2024|\n",
            "|000010|20241121194215| 2024.11.21|19:42:15.20|38.3467|38.8023|  005.0|3.6|0.0|3.6|3.6|0.0|0.0| Ke|CANAKCI-KALE (MAL...|2024-11-21 19:42:...|2024|\n",
            "|000011|20241119181910| 2024.11.19|18:19:10.55|36.5410|28.8147|  008.6|3.8|0.0|3.8|3.7|0.0|0.0| Ke|             AKDENIZ|2024-11-19 18:19:...|2024|\n",
            "|000012|20241119074615| 2024.11.19|07:46:15.22|40.2903|27.0020|  013.4|4.0|0.0|4.0|3.7|0.0|0.0| Ke|GURGENDERE-BIGA (...|2024-11-19 07:46:...|2024|\n",
            "|000013|20241115165612| 2024.11.15|16:56:12.95|38.0040|37.5778|  004.1|3.8|0.0|3.8|3.8|0.0|0.0| Ke|TATLAR-NURHAK (KA...|2024-11-15 16:56:...|2024|\n",
            "|000014|20241115134251| 2024.11.15|13:42:51.00|36.3652|26.5328|  020.4|3.5|0.0|3.5|3.4|0.0|0.0| Ke|             AKDENIZ| 2024-11-15 13:42:51|2024|\n",
            "|000015|20241115090201| 2024.11.15|09:02:01.62|41.0012|40.9008|  013.2|4.7|0.0|4.7|4.5|0.0|0.0| Ke|HILAL-HEMSIN (RIZ...|2024-11-15 09:02:...|2024|\n",
            "|000016|20241115074618| 2024.11.15|07:46:18.58|37.9915|37.6162|  005.0|5.1|0.0|5.1|5.0|0.0|0.0| Ke|GOVDELI-DOGANSEHI...|2024-11-15 07:46:...|2024|\n",
            "|000017|20241115032253| 2024.11.15|03:22:53.56|39.6925|33.3360|  005.3|3.5|0.0|3.5|3.5|0.0|0.0| Ke|KUCUKSARIKAYALAR-...|2024-11-15 03:22:...|2024|\n",
            "|000018|20241113122157| 2024.11.13|12:21:57.94|39.9933|41.3168|  005.0|3.5|0.0|3.3|3.5|0.0|0.0| Ke|YAKUTIYE (ERZURUM...|2024-11-13 12:21:...|2024|\n",
            "|000019|20241111083331| 2024.11.11|08:33:31.95|40.7353|34.1277|  008.7|3.5|0.0|3.5|3.4|0.0|0.0| Ke|EMIRSAH-BAYAT (CO...|2024-11-11 08:33:...|2024|\n",
            "|000020|20241111082754| 2024.11.11|08:27:54.24|40.7363|34.1313|  009.5|3.7|0.0|3.5|3.7|0.0|0.0| Ke|EMIRSAH-BAYAT (CO...|2024-11-11 08:27:...|2024|\n",
            "+------+--------------+-----------+-----------+-------+-------+-------+---+---+---+---+---+---+---+--------------------+--------------------+----+\n",
            "only showing top 20 rows\n",
            "\n",
            "root\n",
            " |-- No: string (nullable = true)\n",
            " |-- Deprem Kodu: string (nullable = true)\n",
            " |-- Olus tarihi: string (nullable = true)\n",
            " |-- Olus zamani: string (nullable = true)\n",
            " |-- Enlem: string (nullable = true)\n",
            " |-- Boylam: string (nullable = true)\n",
            " |-- Der(km): string (nullable = true)\n",
            " |-- xM: string (nullable = true)\n",
            " |-- MD: string (nullable = true)\n",
            " |-- ML: string (nullable = true)\n",
            " |-- Mw: string (nullable = true)\n",
            " |-- Ms: string (nullable = true)\n",
            " |-- Mb: string (nullable = true)\n",
            " |-- Tip: string (nullable = true)\n",
            " |-- Yer: string (nullable = true)\n",
            " |-- datetime: timestamp (nullable = true)\n",
            " |-- year: integer (nullable = true)\n",
            "\n"
          ]
        },
        {
          "output_type": "execute_result",
          "data": {
            "text/plain": [
              "7769"
            ]
          },
          "metadata": {},
          "execution_count": 127
        }
      ]
    },
    {
      "cell_type": "code",
      "source": [
        "# Filter the DataFrame to include only rows where the year is between 1990 and 2019 (inclusive)\n",
        "df = df.filter((col(\"year\") >= 1990) & (col(\"year\") <= 2019))\n",
        "df.show()\n",
        "df.printSchema()\n",
        "df.count()"
      ],
      "metadata": {
        "colab": {
          "base_uri": "https://localhost:8080/"
        },
        "id": "R1NoKzxt9vzi",
        "outputId": "1f4888c9-3e38-477c-e92c-2136c839103d"
      },
      "execution_count": null,
      "outputs": [
        {
          "output_type": "stream",
          "name": "stdout",
          "text": [
            "+------+--------------+-----------+-----------+-------+-------+-------+---+---+---+---+---+---+---+--------------------+--------------------+----+\n",
            "|    No|   Deprem Kodu|Olus tarihi|Olus zamani|  Enlem| Boylam|Der(km)| xM| MD| ML| Mw| Ms| Mb|Tip|                 Yer|            datetime|year|\n",
            "+------+--------------+-----------+-----------+-------+-------+-------+---+---+---+---+---+---+---+--------------------+--------------------+----+\n",
            "|003970|20191229112006| 2019.12.29|11:20:06.59|40.3462|42.1595|  005.0|4.3|0.0|4.2|4.3|0.0|0.0| Ke|GULLUDAG-NARMAN (...|2019-12-29 11:20:...|2019|\n",
            "|003971|20191228014837| 2019.12.28|01:48:37.67|35.6587|32.0620|  031.0|3.6|0.0|3.6|3.6|0.0|0.0| Ke|             AKDENIZ|2019-12-28 01:48:...|2019|\n",
            "|003972|20191227071131| 2019.12.27|07:11:31.39|38.3725|39.0448|  002.2|3.6|0.0|3.6|0.0|0.0|0.0| Ke|CEVRIMTAS-SIVRICE...|2019-12-27 07:11:...|2019|\n",
            "|003973|20191227070225| 2019.12.27|07:02:25.38|38.3513|38.9847|  004.5|5.1|0.0|5.1|4.8|0.0|0.0| Ke|TOPALUSAGI-SIVRIC...|2019-12-27 07:02:...|2019|\n",
            "|003974|20191226025534| 2019.12.26|02:55:34.45|39.4388|27.9092|  009.5|3.5|0.0|3.5|3.3|0.0|0.0| Ke|BAYAT- (BALIKESIR...|2019-12-26 02:55:...|2019|\n",
            "|003975|20191226015527| 2019.12.26|01:55:27.54|39.4475|27.9088|  010.0|3.8|0.0|3.8|3.5|0.0|0.0| Ke|BAYAT- (BALIKESIR...|2019-12-26 01:55:...|2019|\n",
            "|003976|20191224193503| 2019.12.24|19:35:03.03|40.7983|27.5425|  016.3|3.5|0.0|3.5|3.3|0.0|0.0| Ke|YENIKOY ACIKLARI-...|2019-12-24 19:35:...|2019|\n",
            "|003977|20191222235802| 2019.12.22|23:58:02.23|39.4555|40.0313|  005.0|4.3|0.0|4.3|4.3|0.0|0.0| Ke|KIRKLAR-PULUMUR (...|2019-12-22 23:58:...|2019|\n",
            "|003978|20191217082132| 2019.12.17|08:21:32.55|35.8460|32.5395|  009.4|3.5|0.0|3.5|3.5|0.0|0.0| Ke|ANAMUR ACIKLARI-M...|2019-12-17 08:21:...|2019|\n",
            "|003979|20191215024103| 2019.12.15|02:41:03.07|38.0035|26.9722|  008.2|3.7|0.0|3.7|3.6|0.0|0.0| Ke|KUSADASI KORFEZI ...|2019-12-15 02:41:...|2019|\n",
            "|003980|20191212095259| 2019.12.12|09:52:59.83|35.2515|26.2705|  004.1|3.9|0.0|3.8|3.9|0.0|0.0| Ke|GIRIT ADASI (AKDE...|2019-12-12 09:52:...|2019|\n",
            "|003981|20191212005635| 2019.12.12|00:56:35.17|35.3938|27.7547|  020.1|3.5|0.0|3.5|0.0|0.0|0.0| Ke|             AKDENIZ|2019-12-12 00:56:...|2019|\n",
            "|003982|20191211131545| 2019.12.11|13:15:45.26|39.4375|27.9355|  009.6|3.6|0.0|3.6|0.0|0.0|0.0| Ke|AKCAKOY- (BALIKES...|2019-12-11 13:15:...|2019|\n",
            "|003983|20191210235848| 2019.12.10|23:58:48.32|39.4492|27.9148|  009.4|3.7|0.0|3.7|0.0|0.0|0.0| Ke|BAYAT- (BALIKESIR...|2019-12-10 23:58:...|2019|\n",
            "|003984|20191210215826| 2019.12.10|21:58:26.73|35.3425|26.5243|  086.7|5.3|0.0|5.3|5.1|0.0|0.0| Ke|GIRIT ADASI (AKDE...|2019-12-10 21:58:...|2019|\n",
            "|003985|20191210204618| 2019.12.10|20:46:18.06|39.4522|27.9150|  008.7|4.3|0.0|4.3|4.1|0.0|0.0| Ke|BAYAT- (BALIKESIR...|2019-12-10 20:46:...|2019|\n",
            "|003986|20191210202404| 2019.12.10|20:24:04.93|39.4500|27.9180|  009.9|4.5|0.0|4.5|4.3|0.0|0.0| Ke|BAYAT- (BALIKESIR...|2019-12-10 20:24:...|2019|\n",
            "|003987|20191210201402| 2019.12.10|20:14:02.71|39.4452|27.9245|  009.2|5.0|0.0|5.0|4.8|0.0|0.0| Ke|AKCAKOY- (BALIKES...|2019-12-10 20:14:...|2019|\n",
            "|003988|20191208210905| 2019.12.08|21:09:05.80|35.6713|31.1093|  008.5|3.7|0.0|3.5|3.7|0.0|0.0| Ke|             AKDENIZ|2019-12-08 21:09:...|2019|\n",
            "|003989|20191206223615| 2019.12.06|22:36:15.22|40.7703|31.5047|  005.0|3.8|0.0|3.6|3.8|0.0|0.0| Ke|KIZILAGIL- (BOLU)...|2019-12-06 22:36:...|2019|\n",
            "+------+--------------+-----------+-----------+-------+-------+-------+---+---+---+---+---+---+---+--------------------+--------------------+----+\n",
            "only showing top 20 rows\n",
            "\n",
            "root\n",
            " |-- No: string (nullable = true)\n",
            " |-- Deprem Kodu: string (nullable = true)\n",
            " |-- Olus tarihi: string (nullable = true)\n",
            " |-- Olus zamani: string (nullable = true)\n",
            " |-- Enlem: string (nullable = true)\n",
            " |-- Boylam: string (nullable = true)\n",
            " |-- Der(km): string (nullable = true)\n",
            " |-- xM: string (nullable = true)\n",
            " |-- MD: string (nullable = true)\n",
            " |-- ML: string (nullable = true)\n",
            " |-- Mw: string (nullable = true)\n",
            " |-- Ms: string (nullable = true)\n",
            " |-- Mb: string (nullable = true)\n",
            " |-- Tip: string (nullable = true)\n",
            " |-- Yer: string (nullable = true)\n",
            " |-- datetime: timestamp (nullable = true)\n",
            " |-- year: integer (nullable = true)\n",
            "\n"
          ]
        },
        {
          "output_type": "execute_result",
          "data": {
            "text/plain": [
              "1954"
            ]
          },
          "metadata": {},
          "execution_count": 128
        }
      ]
    },
    {
      "cell_type": "code",
      "source": [
        "top10 = df.orderBy(col(\"Mw\").cast(\"double\").desc()).limit(10) # get 10 strongest earthquakes to match them with all others afterwards\n",
        "top10 = top10.withColumn(\"lat\", col(\"Enlem\").cast(\"double\"))\n",
        "top10 = top10.withColumn(\"lon\", col(\"Boylam\").cast(\"double\")) # Geospatial calculations (like distance) need numeric (double) values.\n",
        "top10.show()\n",
        "top10.printSchema()"
      ],
      "metadata": {
        "colab": {
          "base_uri": "https://localhost:8080/"
        },
        "id": "BsP-qykETdZz",
        "outputId": "fcb0eb65-eaa4-44bc-cecf-5c1792cca5cf"
      },
      "execution_count": null,
      "outputs": [
        {
          "output_type": "stream",
          "name": "stdout",
          "text": [
            "+------+--------------+-----------+-----------+-------+-------+-------+---+---+---+---+---+---+---+--------------------+--------------------+----+-------+-------+\n",
            "|    No|   Deprem Kodu|Olus tarihi|Olus zamani|  Enlem| Boylam|Der(km)| xM| MD| ML| Mw| Ms| Mb|Tip|                 Yer|            datetime|year|    lat|    lon|\n",
            "+------+--------------+-----------+-----------+-------+-------+-------+---+---+---+---+---+---+---+--------------------+--------------------+----+-------+-------+\n",
            "|012369|19990817000137| 1999.08.17|00:01:37.60|40.7600|29.9700|   0018|7.4|6.7|0.0|7.4|0.0|0.0| Ke|BASISKELE (KOCAEL...|1999-08-17 00:01:...|1999|  40.76|  29.97|\n",
            "|007358|20111023104121| 2011.10.23|10:41:21.01|38.7212|43.4110|  005.0|7.2|0.0|6.7|7.2|0.0|0.0| Ke|YEMLICE- (VAN) [N...|2011-10-23 10:41:...|2011|38.7212| 43.411|\n",
            "|012153|19991112165720| 1999.11.12|16:57:20.80|40.7400|31.2100|   0025|7.2|0.0|0.0|7.2|0.0|0.0| Ke|UGUR- (DUZCE) [No...|1999-11-12 16:57:...|1999|  40.74|  31.21|\n",
            "|004840|20170720223109| 2017.07.20|22:31:09.66|36.9693|27.4057|  007.1|6.6|0.0|6.6|6.6|0.0|0.0| Ke|GOKOVA KORFEZI (A...|2017-07-20 22:31:...|2017|36.9693|27.4057|\n",
            "|010991|20030501002704| 2003.05.01|00:27:04.40|39.0100|40.4600|   0010|6.4|6.2|0.0|6.4|6.4|0.0| Ke|KURTULUS- (BINGOL...|2003-05-01 00:27:...|2003|  39.01|  40.46|\n",
            "|008582|20080715032633| 2008.07.15|03:26:33.58|35.7948|27.8798|  030.9|6.4|0.0|6.4|6.3|0.0|0.0| Ke|             AKDENIZ|2008-07-15 03:26:...|2008|35.7948|27.8798|\n",
            "|004927|20170612122837| 2017.06.12|12:28:37.53|38.8468|26.3252|  014.4|6.3|0.0|6.3|6.1|0.0|0.0| Ke|          EGE DENIZI|2017-06-12 12:28:...|2017|38.8468|26.3252|\n",
            "|007589|20110401132908| 2011.04.01|13:29:08.56|35.5138|26.5798|  057.1|6.2|0.0|6.2|6.1|0.0|0.0| Ke|             AKDENIZ|2011-04-01 13:29:...|2011|35.5138|26.5798|\n",
            "|007920|20100308023231| 2010.03.08|02:32:31.09|38.8300|40.1308|  005.0|6.1|0.0|6.0|6.1|0.0|0.0| Ke|ISAAGAMEZRASI-KOV...|2010-03-08 02:32:...|2010|  38.83|40.1308|\n",
            "|011083|20030127052628| 2003.01.27|05:26:28.00|39.4800|39.7700|   0010|6.1|6.1|0.0|6.1|6.0|5.7| Ke|SAGLAMTAS-PULUMUR...| 2003-01-27 05:26:28|2003|  39.48|  39.77|\n",
            "+------+--------------+-----------+-----------+-------+-------+-------+---+---+---+---+---+---+---+--------------------+--------------------+----+-------+-------+\n",
            "\n",
            "root\n",
            " |-- No: string (nullable = true)\n",
            " |-- Deprem Kodu: string (nullable = true)\n",
            " |-- Olus tarihi: string (nullable = true)\n",
            " |-- Olus zamani: string (nullable = true)\n",
            " |-- Enlem: string (nullable = true)\n",
            " |-- Boylam: string (nullable = true)\n",
            " |-- Der(km): string (nullable = true)\n",
            " |-- xM: string (nullable = true)\n",
            " |-- MD: string (nullable = true)\n",
            " |-- ML: string (nullable = true)\n",
            " |-- Mw: string (nullable = true)\n",
            " |-- Ms: string (nullable = true)\n",
            " |-- Mb: string (nullable = true)\n",
            " |-- Tip: string (nullable = true)\n",
            " |-- Yer: string (nullable = true)\n",
            " |-- datetime: timestamp (nullable = true)\n",
            " |-- year: integer (nullable = true)\n",
            " |-- lat: double (nullable = true)\n",
            " |-- lon: double (nullable = true)\n",
            "\n"
          ]
        }
      ]
    },
    {
      "cell_type": "code",
      "source": [
        "# Convert latitude and longitude to double type for numeric distance calculation\n",
        "df = df.withColumn(\"lat\", col(\"Enlem\").cast(\"double\"))\n",
        "df = df.withColumn(\"lon\", col(\"Boylam\").cast(\"double\"))\n",
        "\n",
        "\n",
        "# UDF: Define the Haversine formula to calculate distance between two coordinates on Earth (in km)\n",
        "def haversine(lat1, lon1, lat2, lon2):\n",
        "    R = 6371  # The earth radius (km)\n",
        "    dlat = radians(lat2 - lat1) # calculate distance and convert it to radian\n",
        "    dlon = radians(lon2 - lon1)\n",
        "    a = sin(dlat/2)**2 + cos(radians(lat1)) * cos(radians(lat2)) * sin(dlon/2)**2\n",
        "    c = 2 * asin(sqrt(a))\n",
        "    return R * c\n",
        "\n",
        "# Register the Python function as a Spark UDF that returns DoubleType to be able to used with 'withColumn()'\n",
        "haversine_udf = udf(haversine, DoubleType())\n",
        "\n",
        "# Cross Join: Match every row in top10 with every row in the full dataset (df)\n",
        "# Use alias(\"main\") for the top10 DataFrame and alias(\"other\") for the full DataFrame\n",
        "joined = top10.alias(\"main\").crossJoin(df.alias(\"other\"))\n",
        "\n",
        "\n",
        "# Compute the geographical distance (in km) between each pair using the Haversine formula\n",
        "joined = joined.withColumn(\"distance\", haversine_udf(\n",
        "    col(\"main.lat\"), col(\"main.lon\"),\n",
        "    col(\"other.lat\"), col(\"other.lon\"))\n",
        ")\n",
        "\n",
        "\n",
        "# Compute the absolute time difference between events in seconds\n",
        "joined = joined.withColumn(\"time_diff\", abs(unix_timestamp(\"main.datetime\") - unix_timestamp(\"other.datetime\")))\n",
        "\n",
        "# Filter for nearby and close-in-time quakes based on spatial and temporal proximity to identify related events (aftershocks or foreshocks) | 24 hours = 86400 seconds\n",
        "result = joined.filter(\n",
        "    (col(\"distance\") <= 20) & (col(\"time_diff\") <= 86400) & (col(\"main.datetime\") != col(\"other.datetime\"))\n",
        ")\n",
        "\n",
        "# Defines its type whether foreshock or aftershock\n",
        "result = result.withColumn(\n",
        "    \"type\",\n",
        "    when(col(\"other.datetime\") < col(\"main.datetime\"), \"Foreshock\").otherwise(\"Aftershock\")\n",
        ")\n",
        "\n",
        "\n",
        "# Coumns to be selected\n",
        "final = result.select(\n",
        "    col(\"main.No\").alias(\"Main_EQ_ID\"),\n",
        "    col(\"main.Mw\").alias(\"Main_Magnitude\"),\n",
        "    col(\"main.Yer\").alias(\"Main_Location\"),\n",
        "    col(\"other.No\").alias(\"Related_EQ_ID\"),\n",
        "    col(\"other.Mw\").alias(\"Related_Magnitude\"),\n",
        "    col(\"other.Yer\").alias(\"Related_Location\"),\n",
        "    \"type\",\n",
        "    round(col(\"time_diff\") / 3600, 2).alias(\"Time_Diff_hrs\"),\n",
        "    round(col(\"distance\"), 2).alias(\"Distance_km\")\n",
        ")\n",
        "\n",
        "\n",
        "# Göster\n",
        "final.show(truncate=False)\n",
        "final.count()"
      ],
      "metadata": {
        "colab": {
          "base_uri": "https://localhost:8080/"
        },
        "id": "yKjZTjAfL3Ev",
        "outputId": "c90493f2-700a-4fcf-fd5f-7963c80bdaa6"
      },
      "execution_count": null,
      "outputs": [
        {
          "output_type": "stream",
          "name": "stdout",
          "text": [
            "+----------+--------------+------------------------+-------------+-----------------+--------------------------------------------+----------+-------------+-----------+\n",
            "|Main_EQ_ID|Main_Magnitude|Main_Location           |Related_EQ_ID|Related_Magnitude|Related_Location                            |type      |Time_Diff_hrs|Distance_km|\n",
            "+----------+--------------+------------------------+-------------+-----------------+--------------------------------------------+----------+-------------+-----------+\n",
            "|004840    |6.6           |GOKOVA KORFEZI (AKDENIZ)|004763       |3.9              |GOKOVA KORFEZI (AKDENIZ)                    |Aftershock|23.33        |19.16      |\n",
            "|004840    |6.6           |GOKOVA KORFEZI (AKDENIZ)|004765       |4.9              |AKYARLAR-BODRUM (MUGLA) [South West  4.5 km]|Aftershock|18.64        |13.74      |\n",
            "|004840    |6.6           |GOKOVA KORFEZI (AKDENIZ)|004766       |3.8              |AKYARLAR-BODRUM (MUGLA) [North East  4.0 km]|Aftershock|18.4         |6.66       |\n",
            "|004840    |6.6           |GOKOVA KORFEZI (AKDENIZ)|004767       |3.9              |GOKOVA KORFEZI (AKDENIZ)                    |Aftershock|15.85        |7.35       |\n",
            "|004840    |6.6           |GOKOVA KORFEZI (AKDENIZ)|004768       |3.5              |GOKOVA KORFEZI (AKDENIZ)                    |Aftershock|13.57        |12.8       |\n",
            "|004840    |6.6           |GOKOVA KORFEZI (AKDENIZ)|004771       |3.5              |GOKOVA KORFEZI (AKDENIZ)                    |Aftershock|10.46        |6.29       |\n",
            "|004840    |6.6           |GOKOVA KORFEZI (AKDENIZ)|004772       |3.6              |GOKOVA KORFEZI (AKDENIZ)                    |Aftershock|10.05        |12.95      |\n",
            "|004840    |6.6           |GOKOVA KORFEZI (AKDENIZ)|004773       |3.8              |GOKOVA KORFEZI (AKDENIZ)                    |Aftershock|9.55         |16.54      |\n",
            "|004840    |6.6           |GOKOVA KORFEZI (AKDENIZ)|004774       |3.5              |GOKOVA KORFEZI (AKDENIZ)                    |Aftershock|9.27         |11.11      |\n",
            "|004840    |6.6           |GOKOVA KORFEZI (AKDENIZ)|004775       |0.0              |GOKOVA KORFEZI (AKDENIZ)                    |Aftershock|8.95         |16.24      |\n",
            "|004840    |6.6           |GOKOVA KORFEZI (AKDENIZ)|004776       |3.9              |GOKOVA KORFEZI (AKDENIZ)                    |Aftershock|8.67         |6.54       |\n",
            "|004840    |6.6           |GOKOVA KORFEZI (AKDENIZ)|004777       |4.0              |GOKOVA KORFEZI (AKDENIZ)                    |Aftershock|8.57         |8.6        |\n",
            "|004840    |6.6           |GOKOVA KORFEZI (AKDENIZ)|004778       |0.0              |GOKOVA KORFEZI (AKDENIZ)                    |Aftershock|8.27         |4.93       |\n",
            "|004840    |6.6           |GOKOVA KORFEZI (AKDENIZ)|004779       |3.9              |GOKOVA KORFEZI (AKDENIZ)                    |Aftershock|7.41         |19.97      |\n",
            "|004840    |6.6           |GOKOVA KORFEZI (AKDENIZ)|004780       |4.2              |GOKOVA KORFEZI (AKDENIZ)                    |Aftershock|7.35         |3.6        |\n",
            "|004840    |6.6           |GOKOVA KORFEZI (AKDENIZ)|004781       |3.6              |GOKOVA KORFEZI (AKDENIZ)                    |Aftershock|7.2          |17.4       |\n",
            "|004840    |6.6           |GOKOVA KORFEZI (AKDENIZ)|004782       |3.6              |GOKOVA KORFEZI (AKDENIZ)                    |Aftershock|6.93         |14.02      |\n",
            "|004840    |6.6           |GOKOVA KORFEZI (AKDENIZ)|004783       |4.3              |GOKOVA KORFEZI (AKDENIZ)                    |Aftershock|6.71         |19.24      |\n",
            "|004840    |6.6           |GOKOVA KORFEZI (AKDENIZ)|004785       |4.5              |GOKOVA KORFEZI (AKDENIZ)                    |Aftershock|6.55         |14.27      |\n",
            "|004840    |6.6           |GOKOVA KORFEZI (AKDENIZ)|004786       |3.9              |GOKOVA KORFEZI (AKDENIZ)                    |Aftershock|6.14         |17.19      |\n",
            "+----------+--------------+------------------------+-------------+-----------------+--------------------------------------------+----------+-------------+-----------+\n",
            "only showing top 20 rows\n",
            "\n"
          ]
        },
        {
          "output_type": "execute_result",
          "data": {
            "text/plain": [
              "88"
            ]
          },
          "metadata": {},
          "execution_count": 130
        }
      ]
    },
    {
      "cell_type": "code",
      "source": [],
      "metadata": {
        "id": "9xE4EgzSMEQH"
      },
      "execution_count": null,
      "outputs": []
    }
  ]
}