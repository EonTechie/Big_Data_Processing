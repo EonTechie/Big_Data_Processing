{
  "nbformat": 4,
  "nbformat_minor": 0,
  "metadata": {
    "colab": {
      "provenance": [],
      "authorship_tag": "ABX9TyOLLHaLgJUCjPj37eoZ8JDR",
      "include_colab_link": true
    },
    "kernelspec": {
      "name": "python3",
      "display_name": "Python 3"
    },
    "language_info": {
      "name": "python"
    }
  },
  "cells": [
    {
      "cell_type": "markdown",
      "metadata": {
        "id": "view-in-github",
        "colab_type": "text"
      },
      "source": [
        "<a href=\"https://colab.research.google.com/github/EonTechie/Big_Data_Processing_Spark_Projects/blob/main/Big_Data_Processing_Spark_Projects%20/spark-rdd-tasks/GeospatialCapitalDistanceAnalysis.ipynb\" target=\"_parent\"><img src=\"https://colab.research.google.com/assets/colab-badge.svg\" alt=\"Open In Colab\"/></a>"
      ]
    },
    {
      "cell_type": "code",
      "execution_count": null,
      "metadata": {
        "colab": {
          "base_uri": "https://localhost:8080/"
        },
        "id": "fIr-n7f3QmNn",
        "outputId": "ef207c0f-482d-4a8f-eb04-dd1b4edcd663"
      },
      "outputs": [
        {
          "output_type": "stream",
          "name": "stdout",
          "text": [
            "Mounted at /content/drive\n",
            "['2.txt', 'Capitals.txt', 'EartquakeData-07032025.txt', 'DollarDataset.txt', 'couples.txt', 'join-actors.txt', 'points-null-values.txt', 'numbers-test.txt', 'join-series.txt', 'points.txt', 'names.txt', 'Lottery.txt', 'JamesJoyce-Ulyses.txt', 'world.txt', 'points-places.txt', 'Iris.csv', 'ml-latest-small']\n"
          ]
        }
      ],
      "source": [
        "# Filiz-Yıldız-Part1-Question1\n",
        "\n",
        "\"\"\"\n",
        "Dataset: Capitals.txt\n",
        "Goal: Find the two closest capital cities and the distance between them.\n",
        "\n",
        "My Approach:\n",
        "In this question, I worked with tab-separated geographic data using RDD.\n",
        "I parsed the latitude and longitude of each capital city, calculated pairwise distances using the Haversine formula, and found the pair with the shortest distance.\n",
        "Using cartesian() on the RDD helped me compare all city pairs without using DataFrames.\n",
        "I filtered out identical pairs and used min() to get the closest two.\n",
        "\n",
        "\n",
        "\"\"\"\n",
        "# Connect colab to my drive account to fetch the dataset stored there\n",
        "from google.colab import drive\n",
        "drive.mount('/content/drive')\n",
        "\n",
        "# Print files to see the namesof all (optional)\n",
        "import os\n",
        "folder_path = \"/content/drive/My Drive/datasets\"\n",
        "files = os.listdir(folder_path)\n",
        "print(files)"
      ]
    },
    {
      "cell_type": "code",
      "source": [
        "# Import SparkContext class to create Spark application\n",
        "from pyspark import SparkContext\n",
        "\n",
        "# Create Spark Object to start Spark application, sc is a SparkContext object\n",
        "sc = SparkContext()"
      ],
      "metadata": {
        "id": "7igC_Qc5UTcy"
      },
      "execution_count": null,
      "outputs": []
    },
    {
      "cell_type": "code",
      "source": [
        "# Parse a line from the Capitals.txt file and extract the capital name and coordinates\n",
        "def parse_line(line):\n",
        "    # Split the line using the tab character (\\t) since the dataset uses tab-separated values\n",
        "    parts = line.split('\\t')\n",
        "\n",
        "    # Check if the line has at least 5 parts for correct format: we need at least capital name, latitude, and longitude\n",
        "    if len(parts) >= 5:\n",
        "        # Extract the capital city name from the 3rd column (index 2)\n",
        "        name = parts[2]\n",
        "\n",
        "        # Extract latitude and longitude from the 4th and 5th columns (index 3 and 4)\n",
        "        # Replace ',' with '.' because the data uses comma for decimals (e.g., 34,53)\n",
        "        # but Python's float() function expects dots (e.g., 34.53)\n",
        "        lat = float(parts[3].replace(',', '.'))\n",
        "        lon = float(parts[4].replace(',', '.'))\n",
        "\n",
        "        # Return a tuple: (capital_name, (latitude, longitude))\n",
        "        # This format makes it easy to use later in distance calculations\n",
        "        return (name, (lat, lon))\n",
        "\n",
        "    # If the line is invalid (missing columns), return None\n",
        "    # This allows us to easily filter out bad data later using filter()\n",
        "    return None\n"
      ],
      "metadata": {
        "id": "oMReusqIWMeX"
      },
      "execution_count": null,
      "outputs": []
    },
    {
      "cell_type": "code",
      "source": [
        "# Read Capitals.txt with sc, return an RDD\n",
        "# map: apply parse_line function to each line (transformation)\n",
        "# filter: remove None values (transformation)\n",
        "\n",
        "capitals_rdd = sc.textFile(\"/content/drive/My Drive/datasets/Capitals.txt\") \\\n",
        "    .map(parse_line) \\\n",
        "    .filter(lambda x: x is not None)\n",
        "\n",
        "# take: show first 5 elements (action)\n",
        "capitals_rdd.take(5)\n"
      ],
      "metadata": {
        "colab": {
          "base_uri": "https://localhost:8080/"
        },
        "id": "lL2ZZPwvehFO",
        "outputId": "2447e442-4e41-4da2-b226-83c9da2d848c"
      },
      "execution_count": null,
      "outputs": [
        {
          "output_type": "execute_result",
          "data": {
            "text/plain": [
              "[('Kabul ', (34.53, 69.17)),\n",
              " ('Tirana ', (41.33, 19.82)),\n",
              " ('Algiers ', (36.75, 3.04)),\n",
              " ('Pago Pago ', (-14.28, -170.7)),\n",
              " ('Andorra la Vella ', (42.51, 1.52))]"
            ]
          },
          "metadata": {},
          "execution_count": 4
        }
      ]
    },
    {
      "cell_type": "code",
      "source": [
        "# Create all possible pairs of capital cities using the cartesian product (Trasformation)\n",
        "# This will create pairs like: ((CityA, (latA, lonA)), (CityB, (latB, lonB)))\n",
        "pairs = capitals_rdd.cartesian(capitals_rdd).filter(lambda x: x[0][0] != x[1][0])\n",
        "# Filter out pairs where both cities are the same (e.g., (Paris, Paris)) (Transformaiton)\n",
        "# We only want pairs of *different* cities\n",
        "\n",
        "# Show the first 5 valid city pairs (for checking) (action)\n",
        "pairs.take(5)"
      ],
      "metadata": {
        "colab": {
          "base_uri": "https://localhost:8080/"
        },
        "id": "UEkiDDiifS1u",
        "outputId": "63c62a17-e060-456f-afbc-0775d17e5048"
      },
      "execution_count": null,
      "outputs": [
        {
          "output_type": "execute_result",
          "data": {
            "text/plain": [
              "[(('Kabul ', (34.53, 69.17)), ('Tirana ', (41.33, 19.82))),\n",
              " (('Kabul ', (34.53, 69.17)), ('Algiers ', (36.75, 3.04))),\n",
              " (('Kabul ', (34.53, 69.17)), ('Pago Pago ', (-14.28, -170.7))),\n",
              " (('Kabul ', (34.53, 69.17)), ('Andorra la Vella ', (42.51, 1.52))),\n",
              " (('Kabul ', (34.53, 69.17)), ('Luanda ', (-8.84, 13.23)))]"
            ]
          },
          "metadata": {},
          "execution_count": 5
        }
      ]
    },
    {
      "cell_type": "code",
      "source": [
        "import math\n",
        "\n",
        "# Haversine formula to calculate the great-circle distance between two coordinates on Earth\n",
        "def haversine(coord1, coord2):\n",
        "    R = 6371  # Radius of Earth in kilometers\n",
        "\n",
        "    # Unpack latitude and longitude from both coordinates\n",
        "    lat1, lon1 = coord1\n",
        "    lat2, lon2 = coord2\n",
        "\n",
        "    # Convert degrees to radians since math functions use radians\n",
        "    phi1, phi2 = math.radians(lat1), math.radians(lat2)\n",
        "    d_phi = math.radians(lat2 - lat1)        # difference in latitude\n",
        "    d_lambda = math.radians(lon2 - lon1)     # difference in longitude\n",
        "\n",
        "    # Apply the haversine formula\n",
        "    a = math.sin(d_phi / 2)**2 + math.cos(phi1) * math.cos(phi2) * math.sin(d_lambda / 2)**2\n",
        "    c = 2 * math.atan2(math.sqrt(a), math.sqrt(1 - a))\n",
        "\n",
        "    # Return the distance in kilometers\n",
        "    return R * c\n"
      ],
      "metadata": {
        "id": "GcDTpdczewrq"
      },
      "execution_count": null,
      "outputs": []
    },
    {
      "cell_type": "code",
      "source": [
        "# Map each city pair to a tuple: ((city1_name, city2_name), distance_in_km)\n",
        "# Use the haversine function to calculate the distance between their coordinates using map (Transformation)\n",
        "distances = pairs.map(lambda x: ((x[0][0], x[1][0]), haversine(x[0][1], x[1][1])))\n",
        "\n",
        "# Show the first 5 results to verify the distances (Action)\n",
        "distances.take(5)\n"
      ],
      "metadata": {
        "colab": {
          "base_uri": "https://localhost:8080/"
        },
        "id": "r1TJR1n5ZyDX",
        "outputId": "13d15725-a638-49ac-d7cb-d7ac855f263e"
      },
      "execution_count": null,
      "outputs": [
        {
          "output_type": "execute_result",
          "data": {
            "text/plain": [
              "[(('Kabul ', 'Tirana '), 4334.696822428333),\n",
              " (('Kabul ', 'Algiers '), 5857.721358797607),\n",
              " (('Kabul ', 'Pago Pago '), 13646.126711152365),\n",
              " (('Kabul ', 'Andorra la Vella '), 5795.92545456428),\n",
              " (('Kabul ', 'Luanda '), 7601.072171051554)]"
            ]
          },
          "metadata": {},
          "execution_count": 7
        }
      ]
    },
    {
      "cell_type": "code",
      "source": [
        "# Find the city pair with the minimum distance using the distance value (x[1]) as the key\n",
        "# This is an action that triggers RDD computation and returns the result to the driver (as a Python object)\n",
        "closest = distances.min(key=lambda x: x[1])\n",
        "\n",
        "# Print the closest pair of capital cities and their distance\n",
        "print(\"Closest cities are\", closest[0][0], \"and\", closest[0][1], \"with\", closest[1] , \"km\")\n"
      ],
      "metadata": {
        "colab": {
          "base_uri": "https://localhost:8080/"
        },
        "id": "JLCilNmpezjJ",
        "outputId": "d511e2df-a0bd-4bdb-ee81-df7c90397366"
      },
      "execution_count": null,
      "outputs": [
        {
          "output_type": "stream",
          "name": "stdout",
          "text": [
            "Closest cities are Jerusalem  and East Jerusalem  with 0.0 km\n"
          ]
        }
      ]
    },
    {
      "cell_type": "code",
      "source": [],
      "metadata": {
        "id": "ZjqUOwi6cdKd"
      },
      "execution_count": null,
      "outputs": []
    }
  ]
}